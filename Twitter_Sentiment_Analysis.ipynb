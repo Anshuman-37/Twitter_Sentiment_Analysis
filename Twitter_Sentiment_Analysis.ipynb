{
  "nbformat": 4,
  "nbformat_minor": 0,
  "metadata": {
    "colab": {
      "name": "Twitter_Sentiment_Analysis.ipynb",
      "provenance": [],
      "collapsed_sections": [],
      "machine_shape": "hm",
      "authorship_tag": "ABX9TyNCer7YBwj7sZUTTOZ2+Gl2",
      "include_colab_link": true
    },
    "kernelspec": {
      "name": "python3",
      "display_name": "Python 3"
    },
    "language_info": {
      "name": "python"
    }
  },
  "cells": [
    {
      "cell_type": "markdown",
      "metadata": {
        "id": "view-in-github",
        "colab_type": "text"
      },
      "source": [
        "<a href=\"https://colab.research.google.com/github/Anshuman-37/Twitter_Sentiment_Analysis/blob/main/Twitter_Sentiment_Analysis.ipynb\" target=\"_parent\"><img src=\"https://colab.research.google.com/assets/colab-badge.svg\" alt=\"Open In Colab\"/></a>"
      ]
    },
    {
      "cell_type": "markdown",
      "source": [
        "## IDEA- \n",
        "0. Downloading Data and Reading it\n",
        "\n",
        "\n",
        "> Use KAGGLE JSON file to directly donwload data in colab and use it if having any problem search on google how to download kaggle data.\n",
        "\n",
        "> ~~Then read the data in pyspark dataframe~~\n",
        "\n",
        "Done\n",
        "\n",
        "\n",
        "1. Change Data Type \n",
        "\n",
        "> ~~Everything is a string type first convert it to the required type and change the schema~~ \n",
        "\n",
        "~~<em>Answer -  I think I will brute force on this one getting all the column names and changing the schema</em>~~\n",
        "\n",
        "Done\n",
        "\n",
        "2. Data visualization\n",
        "\n",
        "\n",
        "> ~~We need to visualize the data and check for imbalance. To do that we need to concatinate the data~~ \n",
        "\n",
        "~~Answer - Concatinate Biden and Trumps data in a single data frame~~ \n",
        "\n",
        "Done\n",
        "\n",
        "3. Data cleaning\n",
        "\n",
        "> ~~Haven't thought about it in detail but we need to do normal nltk steps to do this~~\n",
        "\n",
        "~~Answer - Used Regular Expression to remove the useless characters in the string~~\n",
        "\n",
        "Done \n",
        "\n",
        "4. Analysis\n",
        "\n",
        "> Think of using a library or we need to do it on our own ? \n",
        "\n",
        "Answer - Create a new column and apply text blob on it to get the result.\n",
        "\n",
        "> Do we need to use vector assembler and the other shit as well to do this. I am not sure..\n",
        "\n",
        "\n",
        "\n",
        "\n",
        "\n",
        "\n",
        "\n",
        "\n",
        "\n",
        "\n"
      ],
      "metadata": {
        "id": "lBguLkqplQN9"
      }
    },
    {
      "cell_type": "code",
      "source": [
        ""
      ],
      "metadata": {
        "id": "W5uuOaFEFg_x"
      },
      "execution_count": null,
      "outputs": []
    },
    {
      "cell_type": "markdown",
      "source": [
        "## Downloading the data from Kaggle"
      ],
      "metadata": {
        "id": "sYCL7wB5Fh0C"
      }
    },
    {
      "cell_type": "code",
      "execution_count": 1,
      "metadata": {
        "id": "qOYJg_BsDDmW"
      },
      "outputs": [],
      "source": [
        "## Prerequisites\n",
        "#!pip install kaggle --upgrade\n",
        "!cp kaggle.json ~/.kaggle/\n",
        "!chmod 600 ~/.kaggle/kaggle.json"
      ]
    },
    {
      "cell_type": "code",
      "source": [
        "## Downloading data command\n",
        "!kaggle datasets download -d manchunhui/us-election-2020-tweets"
      ],
      "metadata": {
        "colab": {
          "base_uri": "https://localhost:8080/"
        },
        "id": "IRuQFE-cE7bp",
        "outputId": "3b6ad431-a614-4f97-d670-3027b40a1980"
      },
      "execution_count": 2,
      "outputs": [
        {
          "output_type": "stream",
          "name": "stdout",
          "text": [
            "us-election-2020-tweets.zip: Skipping, found more recently modified local copy (use --force to force download)\n"
          ]
        }
      ]
    },
    {
      "cell_type": "code",
      "source": [
        "# !mkdir content/data\n",
        "# !unzip us-election-2020-tweets.zip -d data"
      ],
      "metadata": {
        "id": "GO1eJ1FDF2uP"
      },
      "execution_count": 3,
      "outputs": []
    },
    {
      "cell_type": "markdown",
      "source": [
        "## Download Pyspark"
      ],
      "metadata": {
        "id": "Sz3hB6Dc-GX2"
      }
    },
    {
      "cell_type": "code",
      "source": [
        "!pip install pyspark "
      ],
      "metadata": {
        "colab": {
          "base_uri": "https://localhost:8080/"
        },
        "id": "V_Cs4IN0-Gfj",
        "outputId": "84942401-688e-42eb-9d42-f086411a8f6e"
      },
      "execution_count": 4,
      "outputs": [
        {
          "output_type": "stream",
          "name": "stdout",
          "text": [
            "Requirement already satisfied: pyspark in /usr/local/lib/python3.7/dist-packages (3.2.1)\n",
            "Requirement already satisfied: py4j==0.10.9.3 in /usr/local/lib/python3.7/dist-packages (from pyspark) (0.10.9.3)\n"
          ]
        }
      ]
    },
    {
      "cell_type": "markdown",
      "source": [
        "## Import Header Files"
      ],
      "metadata": {
        "id": "tdwfhe3oFpy-"
      }
    },
    {
      "cell_type": "code",
      "source": [
        "## Python \n",
        "import numpy as np\n",
        "import pandas as pd\n",
        "import matplotlib.pyplot as plt\n",
        "import seaborn as sns \n",
        "import re\n",
        "\n",
        "\n",
        "# stopwords, tokenizer, stemmer\n",
        "import nltk  \n",
        "from nltk.corpus import stopwords\n",
        "from nltk.tokenize import word_tokenize\n",
        "from nltk.stem import PorterStemmer\n",
        "from nltk.probability import FreqDist\n",
        "\n",
        "# spell correction, lemmatization\n",
        "from textblob import TextBlob\n",
        "from textblob import Word\n",
        "\n",
        "## Spark\n",
        "import pyspark.sql.functions as F\n",
        "from pyspark.sql import Row\n",
        "from pyspark import SparkContext\n",
        "from pyspark.sql import SparkSession\n",
        "from pyspark.sql.types import StructType, StructField, StringType , FloatType\n",
        "from pyspark.sql.functions import lit\n",
        "from pyspark.sql.functions import regexp_replace\n",
        "from pyspark.sql.functions import udf\n",
        "\n",
        "# Create Spark Session\n",
        "spark = SparkSession.builder.master(\"local[1]\").appName('Twitter Sentiment Analysis').getOrCreate()"
      ],
      "metadata": {
        "id": "Q2PUC_Z2FaEY"
      },
      "execution_count": 5,
      "outputs": []
    },
    {
      "cell_type": "markdown",
      "source": [
        "## Reading the Data"
      ],
      "metadata": {
        "id": "AYCcYnYLlrdb"
      }
    },
    {
      "cell_type": "markdown",
      "source": [
        "#### Defining the Schema"
      ],
      "metadata": {
        "id": "Zp1PRJSTz9zo"
      }
    },
    {
      "cell_type": "code",
      "source": [
        "\n",
        "# Created the schema that we need \n",
        "# Fucking Brute Force I dont like it\n",
        "mySchema = StructType([ StructField('created_at', StringType(), True)\\\n",
        "                       ,StructField('tweet_id', FloatType(), True)\\\n",
        "                       ,StructField('tweet',StringType(),True)\\\n",
        "                       ,StructField('likes',FloatType(),True)\\\n",
        "                       ,StructField('retweet_count',FloatType(),True)\\\n",
        "                       ,StructField('source',StringType(),True)\\\n",
        "                       ,StructField('user_id',FloatType(),True)\\\n",
        "                       ,StructField('user_name',StringType(),True)\\\n",
        "                       ,StructField('user_screen_name',StringType(),True)\\\n",
        "                       ,StructField('user_description',StringType(),True)\\\n",
        "                       ,StructField('user_join_date',StringType(),True)\\\n",
        "                       ,StructField('user_followers_count',FloatType(),True)\\\n",
        "                       ,StructField('user_location',StringType(),True)\\\n",
        "                       ,StructField('lat',FloatType(),True)\\\n",
        "                       ,StructField('long',FloatType(),True)\\\n",
        "                       ,StructField('city',StringType(),True)\\\n",
        "                       ,StructField('country',StringType(),True)\\\n",
        "                       ,StructField('continent',StringType(),True)\\\n",
        "                       ,StructField('state',StringType(),True)\\\n",
        "                       ,StructField('state_code',StringType(),True)\\\n",
        "                       ,StructField('collected_at',StringType(),True)\\\n",
        "                       ])"
      ],
      "metadata": {
        "id": "fm82ZCTKz98f"
      },
      "execution_count": 6,
      "outputs": []
    },
    {
      "cell_type": "code",
      "source": [
        "# Creating spark data frame\n",
        "# This shit was so hard to do it was not reading multiline data at first it killed me\n",
        "# Took me 6 hours to figure this shit \n",
        "# Now have to change the schema to different data type\n",
        "\n",
        "trump_df = spark.read.option('multiline',True)\\\n",
        "                     .option('header', 'true')\\\n",
        "                     .option('lineterminator',\"\\n\")\\\n",
        "                     .option('inferSchema', \"true\")\\\n",
        "                     .schema(mySchema)\\\n",
        "                     .csv('/content/data/hashtag_donaldtrump.csv')\n",
        "trump_df.cache()\n",
        "print('Trump DataFrame Schema')\n",
        "trump_df.printSchema()\n",
        "\n",
        "\n",
        "biden_df = spark.read.option('multiline',True)\\\n",
        "                     .option('header', 'true')\\\n",
        "                     .option('lineterminator',\"\\n\")\\\n",
        "                     .option('inferSchema', \"true\")\\\n",
        "                     .schema(mySchema)\\\n",
        "                     .csv('/content/data/hashtag_joebiden.csv')\n",
        "\n",
        "biden_df.cache()\n",
        "print('Biden DataFrame Schema')\n",
        "biden_df.printSchema()"
      ],
      "metadata": {
        "colab": {
          "base_uri": "https://localhost:8080/"
        },
        "id": "cpeKGK5IH3rG",
        "outputId": "362be989-bdc7-4be6-a91c-464c682ba1ec"
      },
      "execution_count": 7,
      "outputs": [
        {
          "output_type": "stream",
          "name": "stdout",
          "text": [
            "Trump DataFrame Schema\n",
            "root\n",
            " |-- created_at: string (nullable = true)\n",
            " |-- tweet_id: float (nullable = true)\n",
            " |-- tweet: string (nullable = true)\n",
            " |-- likes: float (nullable = true)\n",
            " |-- retweet_count: float (nullable = true)\n",
            " |-- source: string (nullable = true)\n",
            " |-- user_id: float (nullable = true)\n",
            " |-- user_name: string (nullable = true)\n",
            " |-- user_screen_name: string (nullable = true)\n",
            " |-- user_description: string (nullable = true)\n",
            " |-- user_join_date: string (nullable = true)\n",
            " |-- user_followers_count: float (nullable = true)\n",
            " |-- user_location: string (nullable = true)\n",
            " |-- lat: float (nullable = true)\n",
            " |-- long: float (nullable = true)\n",
            " |-- city: string (nullable = true)\n",
            " |-- country: string (nullable = true)\n",
            " |-- continent: string (nullable = true)\n",
            " |-- state: string (nullable = true)\n",
            " |-- state_code: string (nullable = true)\n",
            " |-- collected_at: string (nullable = true)\n",
            "\n",
            "Biden DataFrame Schema\n",
            "root\n",
            " |-- created_at: string (nullable = true)\n",
            " |-- tweet_id: float (nullable = true)\n",
            " |-- tweet: string (nullable = true)\n",
            " |-- likes: float (nullable = true)\n",
            " |-- retweet_count: float (nullable = true)\n",
            " |-- source: string (nullable = true)\n",
            " |-- user_id: float (nullable = true)\n",
            " |-- user_name: string (nullable = true)\n",
            " |-- user_screen_name: string (nullable = true)\n",
            " |-- user_description: string (nullable = true)\n",
            " |-- user_join_date: string (nullable = true)\n",
            " |-- user_followers_count: float (nullable = true)\n",
            " |-- user_location: string (nullable = true)\n",
            " |-- lat: float (nullable = true)\n",
            " |-- long: float (nullable = true)\n",
            " |-- city: string (nullable = true)\n",
            " |-- country: string (nullable = true)\n",
            " |-- continent: string (nullable = true)\n",
            " |-- state: string (nullable = true)\n",
            " |-- state_code: string (nullable = true)\n",
            " |-- collected_at: string (nullable = true)\n",
            "\n"
          ]
        }
      ]
    },
    {
      "cell_type": "markdown",
      "source": [
        "#### Trump Data Stats"
      ],
      "metadata": {
        "id": "gxHe27iI6B-8"
      }
    },
    {
      "cell_type": "code",
      "source": [
        "# Took me 35 seconds to run\n",
        "trump_df.show(5)"
      ],
      "metadata": {
        "colab": {
          "base_uri": "https://localhost:8080/"
        },
        "id": "X4nxWpnQjDzd",
        "outputId": "0e5c5749-8d83-46f6-fa92-2172c4da5e86"
      },
      "execution_count": 8,
      "outputs": [
        {
          "output_type": "stream",
          "name": "stdout",
          "text": [
            "+-------------------+-------------+--------------------+-----+-------------+------------------+------------+--------------------+----------------+--------------------+-------------------+--------------------+--------------------+---------+-----------+----------+--------------------+-------------+--------------------+----------+--------------------+\n",
            "|         created_at|     tweet_id|               tweet|likes|retweet_count|            source|     user_id|           user_name|user_screen_name|    user_description|     user_join_date|user_followers_count|       user_location|      lat|       long|      city|             country|    continent|               state|state_code|        collected_at|\n",
            "+-------------------+-------------+--------------------+-----+-------------+------------------+------------+--------------------+----------------+--------------------+-------------------+--------------------+--------------------+---------+-----------+----------+--------------------+-------------+--------------------+----------+--------------------+\n",
            "|2020-10-15 00:00:01|1.31652925E18|#Elecciones2020 |...|  0.0|          0.0|         TweetDeck|3.60666528E8|  El Sol Latino News| elsollatinonews|🌐 Noticias de in...|2011-08-23 15:33:45|              1860.0|Philadelphia, PA ...| 25.77427|  -80.19366|      null|United States of ...|North America|             Florida|        FL| 2020-10-21 00:00:00|\n",
            "|2020-10-15 00:00:01|1.31652925E18|Usa 2020, Trump c...| 26.0|          9.0|  Social Mediaset |3.31617632E8|             Tgcom24| MediasetTgcom24|Profilo ufficiale...|2011-07-08 13:12:20|           1067661.0|                null|     null|       null|      null|                null|         null|                null|      null|2020-10-21 00:00:...|\n",
            "|2020-10-15 00:00:02|1.31652925E18|#Trump: As a stud...|  2.0|          1.0|   Twitter Web App|   8436472.0|              snarke|          snarke|Will mock for foo...|2007-08-26 05:56:11|              1185.0|            Portland| 45.52025|-122.674194|  Portland|United States of ...|North America|              Oregon|        OR|2020-10-21 00:00:...|\n",
            "|2020-10-15 00:00:02|1.31652925E18|2 hours since las...|  0.0|          0.0|     Trumpytweeter|8.2835557E17|       Trumpytweeter|   trumpytweeter|If he doesn't twe...|2017-02-05 21:32:17|                32.0|                null|     null|       null|      null|                null|         null|                null|      null|2020-10-21 00:00:...|\n",
            "|2020-10-15 00:00:08|1.31652925E18|You get a tie! An...|  4.0|          3.0|Twitter for iPhone|   4.74138E7|Rana Abtar - رنا ...|       Ranaabtar|Washington Corres...|2009-06-15 19:05:35|              5393.0|       Washington DC|38.894993|  -77.03656|Washington|United States of ...|North America|District of Columbia|        DC|2020-10-21 00:00:...|\n",
            "+-------------------+-------------+--------------------+-----+-------------+------------------+------------+--------------------+----------------+--------------------+-------------------+--------------------+--------------------+---------+-----------+----------+--------------------+-------------+--------------------+----------+--------------------+\n",
            "only showing top 5 rows\n",
            "\n"
          ]
        }
      ]
    },
    {
      "cell_type": "code",
      "source": [
        "# Took me 2 minutes to run one command carefull while running\n",
        "trump_df.summary().show()"
      ],
      "metadata": {
        "colab": {
          "base_uri": "https://localhost:8080/"
        },
        "id": "Pp_hw_UklPSG",
        "outputId": "30816a84-9797-4713-c525-b60ba4f6d9d4"
      },
      "execution_count": 9,
      "outputs": [
        {
          "output_type": "stream",
          "name": "stdout",
          "text": [
            "+-------+-----------------+--------------------+--------------------+-----------------+--------------------+--------------------+--------------------+--------------------+--------------------+--------------------+--------------------+--------------------+-------------+--------------------+--------------------+--------------------+--------------------+--------------------+--------------------+--------------------+--------------------+\n",
            "|summary|       created_at|            tweet_id|               tweet|            likes|       retweet_count|              source|             user_id|           user_name|    user_screen_name|    user_description|      user_join_date|user_followers_count|user_location|                 lat|                long|                city|             country|           continent|               state|          state_code|        collected_at|\n",
            "+-------+-----------------+--------------------+--------------------+-----------------+--------------------+--------------------+--------------------+--------------------+--------------------+--------------------+--------------------+--------------------+-------------+--------------------+--------------------+--------------------+--------------------+--------------------+--------------------+--------------------+--------------------+\n",
            "|  count|          1041273|             1000123|             1008345|           930039|              966195|              973170|              932369|              970941|              972442|              873756|              960158|              932257|       669645|              425756|              427584|              238519|              434877|              435090|              340066|              292791|              925044|\n",
            "|   mean|            193.4|1.283839187248706...|    517.244214044928|7.547626497383443|1.324818751750585...|4.020564825642159...|4.465981782600066...|                 NaN|2.711273826372901...|4.892925916182734...|            Infinity|1.166437574363520...|     Infinity|2.361209041250727...|1.384199720522888...|2.940366367637913E14|  160460.72198369104|1.126141553429237E15|  36550.519435252725|  268.05530666931827|   8836082.515800064|\n",
            "| stddev|353.0311512458922|2.227832847738588...|   9252.260969295863|160.3351814641524|1.207006504575201...|2.054222155983961...|5.548601042349740...|                 NaN|4.752449895708026...|8.458395809201138...|                 NaN|1.155119385255524E16|          NaN|5.216372774871347E15|4.081079799770717E15|1.839650161875283...|   9081146.772361342|2.966428738221272...|   833633.4650800169|  2876.6422603616043|1.0417503266585718E8|\n",
            "|    min|                 |                 0.0|                    |              0.0|            -34.9965|                    |          -119.70267|  lo que digan #T...|                    |   Edith Massola ...|                    |           -85.13132|           \\t|          -123.11395|          -175.20264| \"\"media\"\" specia...| 'Trouble-Maker' ...| 'Trouble-Maker' ...| 'Trouble-Maker' ...| #trump approved ...|             Georgia|\n",
            "|    25%|              9.0|       1.32004466E18|                 0.0|              0.0|                 0.0|                 0.0|        2.12458864E8|         1.7691309E7|         1.6843459E7|               136.0|               200.0|                68.0|  -74.0060152|            32.64753|           -96.28479|         -80.8328748|  -79.38393470000001|        -100.4458825|         -77.0365581|  -84.39018490000001|  -95.36769740000001|\n",
            "|    50%|            219.0|       1.32350592E18|                 0.0|              0.0|                 0.0|                 0.0|        2.36788122E9|        2.56382022E8|        2.58374854E8|               924.0|              1399.0|               406.0|         26.0|            39.78373|           -74.00601|  2.3514616000000004|            5.109708|          -0.1276474|  10.333328300000002|          10.4234469|         -58.4370894|\n",
            "|    75%|            230.0|       1.32449878E18|                 2.0|              1.0|                 0.0|                 5.0|       1.08045269E18|        4.13056988E9|7.042226858621747...|              4091.0|             16176.0|              1958.0|        481.0|           46.603355|            8.144044|          39.7837304|          39.9527237|          38.8949924|          39.7837304|          36.7014631|          39.7837304|\n",
            "|    max|               🧵|       1.32558895E18|🫂 🤌🏼\\n\\n#الانت...|          74084.0|       1.32547762E18|                  🪔|       1.32558125E18|🪴🌌🇺🇸 Sheri Ho...|🦋 LoreLo Focheza...|   🪐🦸🏻‍♂️☄️🏳️‍🌈|🧍Guest on our aw...|       1.31972319E18|        🪐🌍✨|       1.31735993E18|        1.3192728E18|🏳️‍🌈ECCENTRIC S...|🌊🌊🌊 I don't ha...|über Kurznachrich...|    Łódź Voivodeship|Área Metropolitan...|        राजकोट, भारत|\n",
            "+-------+-----------------+--------------------+--------------------+-----------------+--------------------+--------------------+--------------------+--------------------+--------------------+--------------------+--------------------+--------------------+-------------+--------------------+--------------------+--------------------+--------------------+--------------------+--------------------+--------------------+--------------------+\n",
            "\n"
          ]
        }
      ]
    },
    {
      "cell_type": "markdown",
      "source": [
        "#### Biden Data Stats"
      ],
      "metadata": {
        "id": "SK96TGda6FnP"
      }
    },
    {
      "cell_type": "code",
      "source": [
        "biden_df.show(5)"
      ],
      "metadata": {
        "colab": {
          "base_uri": "https://localhost:8080/"
        },
        "id": "k0BjcKm9Va_3",
        "outputId": "a07ef129-93d0-4976-96b3-03fc88f9689b"
      },
      "execution_count": 10,
      "outputs": [
        {
          "output_type": "stream",
          "name": "stdout",
          "text": [
            "+-------------------+-------------+--------------------+-----+-------------+------------------+-------------+------------------+----------------+--------------------+-------------------+--------------------+--------------------+---------+----------+----+--------------------+-------------+----------+----------+--------------------+\n",
            "|         created_at|     tweet_id|               tweet|likes|retweet_count|            source|      user_id|         user_name|user_screen_name|    user_description|     user_join_date|user_followers_count|       user_location|      lat|      long|city|             country|    continent|     state|state_code|        collected_at|\n",
            "+-------------------+-------------+--------------------+-----+-------------+------------------+-------------+------------------+----------------+--------------------+-------------------+--------------------+--------------------+---------+----------+----+--------------------+-------------+----------+----------+--------------------+\n",
            "|2020-10-15 00:00:01|1.31652925E18|#Elecciones2020 |...|  0.0|          0.0|         TweetDeck| 3.60666528E8|El Sol Latino News| elsollatinonews|🌐 Noticias de in...|2011-08-23 15:33:45|              1860.0|Philadelphia, PA ...| 25.77427| -80.19366|null|United States of ...|North America|   Florida|        FL| 2020-10-21 00:00:00|\n",
            "|2020-10-15 00:00:18|1.31652925E18|#HunterBiden #Hun...|  0.0|          0.0|  Twitter for iPad|  8.0990445E8|     Cheri A. 🇺🇸|    Biloximeemaw|Locked and loaded...|2012-09-08 01:03:57|              6628.0|                null|     null|      null|null|                null|         null|      null|      null|2020-10-21 00:00:...|\n",
            "|2020-10-15 00:00:20|1.31652925E18|@IslandGirlPRV @B...|  0.0|          0.0|   Twitter Web App|  3.4941824E9|        Flag Waver|     Flag_Wavers|                null|2015-08-30 19:38:21|              1536.0|Golden Valley Ari...|46.304035|-109.17143|null|United States of ...|North America|   Montana|        MT|2020-10-21 00:00:...|\n",
            "|2020-10-15 00:00:21|1.31652925E18|@chrislongview Wa...|  0.0|          0.0|Twitter for iPhone| 8.2425961E17|     Michelle Ferg|   MichelleFerg4|                null|2017-01-25 14:16:17|                27.0|                null|     null|      null|null|                null|         null|      null|      null|2020-10-21 00:00:...|\n",
            "|2020-10-15 00:00:22|1.31652925E18|#censorship #Hunt...|  1.0|          0.0|   Twitter Web App|1.03280694E18|    the Gold State|   theegoldstate|A Silicon Valley ...|2018-08-24 01:49:01|               390.0|     California, USA| 36.70146|  -118.756|null|United States of ...|North America|California|        CA|2020-10-21 00:00:...|\n",
            "+-------------------+-------------+--------------------+-----+-------------+------------------+-------------+------------------+----------------+--------------------+-------------------+--------------------+--------------------+---------+----------+----+--------------------+-------------+----------+----------+--------------------+\n",
            "only showing top 5 rows\n",
            "\n"
          ]
        }
      ]
    },
    {
      "cell_type": "code",
      "source": [
        "# Took me 1 minute 21 seconds to run this command carefull while running\n",
        "biden_df.summary().show()"
      ],
      "metadata": {
        "colab": {
          "base_uri": "https://localhost:8080/"
        },
        "id": "X5FlV8Za4XlM",
        "outputId": "04534ee7-3c7d-4894-97d2-16c7a6f66815"
      },
      "execution_count": 11,
      "outputs": [
        {
          "output_type": "stream",
          "name": "stdout",
          "text": [
            "+-------+-----------------+--------------------+--------------------+------------------+--------------------+--------------------+--------------------+--------------------+--------------------+--------------------+--------------------+--------------------+-------------+--------------------+--------------------+--------------------+--------------------+--------------------+--------------------+--------------------+--------------------+\n",
            "|summary|       created_at|            tweet_id|               tweet|             likes|       retweet_count|              source|             user_id|           user_name|    user_screen_name|    user_description|      user_join_date|user_followers_count|user_location|                 lat|                long|                city|             country|           continent|               state|          state_code|        collected_at|\n",
            "+-------+-----------------+--------------------+--------------------+------------------+--------------------+--------------------+--------------------+--------------------+--------------------+--------------------+--------------------+--------------------+-------------+--------------------+--------------------+--------------------+--------------------+--------------------+--------------------+--------------------+--------------------+\n",
            "|  count|           823959|              796889|              801828|            749924|              774044|              778076|              751360|              776695|              777795|              697625|              769691|              751640|       539464|              342009|              343234|              194040|              348779|              348937|              273343|              239156|              746565|\n",
            "|   mean|           364.75|1.289597226548021...|   400.0148407181543|10.420990277316893|1.120652033266368...|3.996372089638207...|4.533153026368234...|                 NaN|2.554686173128333...|4.939852357248202E30|7.365006715515782...|5.547184064571685E13|     Infinity|1.594191720286928...|6.472178314040551E12|2.402950411464773...|   552166.9756746741|2.070592635271264...|  8039693.4185391655|  496.12804910148145|  -42.65898574461538|\n",
            "| stddev|654.0843472621352|2.070782563441458...|  10906.901366000384|  416.741765997441|1.115803136587129...|2.073021689555582...|5.576354071774018...|                 NaN|4.711945385534910...|7.063816146642846E32|2.741238118991031...|7.797642413940765E15|          NaN|4.253369900706026...|2.695326801129307E15|1.717563331815114...|1.7157205569529492E7|4.350168343454718...| 1.316175547887173E8|  3964.2557119080975|   99.14038575214815|\n",
            "|    min|               \\r|                 0.0|                    |               0.0|           -74.00601|  #LameStreamMedi...|            -118.756|  lo que digan #T...|                    | \"\"Come pipistrel...|                    |               -42.0|           \\t|          -123.11395|          -172.12006|                    | \"\"the hell of fi...|  USAF MACV-1st A...| 'Trouble-Maker' ...| Native American....|\"STOP DOING SATAN...|\n",
            "|    25%|              6.0|       1.32047512E18|                 0.0|               0.0|                 0.0|                 0.0|        2.22036992E8|           5734902.0|           1515243.0|               136.0|               309.0|                66.0|  -74.0060152|           31.778824|           -97.06671|         -81.3790304|  -79.38393470000001|         -86.7743531|         -77.0365581|         -81.3790304|  -99.51209859999999|\n",
            "|    50%|            200.0|       1.32386725E18|                 0.0|               0.0|                 0.0|                 0.0|         2.4573847E9|        2.56204008E8|        2.35596207E8|               906.0|              1483.0|               401.0|         25.0|            39.78373|           -74.00601|  1.8883334999999999|   4.338743599999999|  2.3514616000000004| -22.911013699999998|  16.372504199999998|  -79.99008609999998|\n",
            "|    75%|            240.0|       1.32511382E18|                 2.0|               2.0|                 0.0|                 4.0|       1.08900786E18|       4.498209202E9|       3.438438869E9|              4661.0|             33395.0|              1980.0|        505.0|            43.97928|           7.4892974|          40.0757384|          39.7837304|          39.7459468|          32.2228765|          40.4416941|           12.674297|\n",
            "|    max|       🧵Thread🧵|       1.32558895E18|🪐 #EleccionesUSA...|          165702.0|       1.32550236E18|                  🪔|       1.32557465E18|                🪔🔱|🧚‍♀️ FairyLight ...|🪐⛓ 𝓁𝓊𝓋𝒾𝓃’ ?...|🦠💉🌡😷Test, Tra...|       1.32295191E18|           🪐|       1.32376019E18|       1.22488646E18|             🤖 💭💨|💡bullshit meter ...|         هنا الجزائر|    Łódź Voivodeship|Área Metropolitan...|          ekupchella|\n",
            "+-------+-----------------+--------------------+--------------------+------------------+--------------------+--------------------+--------------------+--------------------+--------------------+--------------------+--------------------+--------------------+-------------+--------------------+--------------------+--------------------+--------------------+--------------------+--------------------+--------------------+--------------------+\n",
            "\n"
          ]
        }
      ]
    },
    {
      "cell_type": "markdown",
      "source": [
        "#### Concatinating Data "
      ],
      "metadata": {
        "id": "_HSBIeJN6_sM"
      }
    },
    {
      "cell_type": "code",
      "source": [
        "## Adding a column to the dataframe \n",
        "trump_df = trump_df.withColumn(\"Candidate\", lit('TRUMP'))\n",
        "trump_df.show()"
      ],
      "metadata": {
        "colab": {
          "base_uri": "https://localhost:8080/"
        },
        "id": "1sjw5nxc4bRQ",
        "outputId": "7a23ecda-d791-4621-f4f5-56b8e857ce07"
      },
      "execution_count": 12,
      "outputs": [
        {
          "output_type": "stream",
          "name": "stdout",
          "text": [
            "+--------------------+-------------+--------------------+-----+-------------+-------------------+-------------+--------------------+-------------------+--------------------+-------------------+--------------------+--------------------+---------+-----------+-----------------+--------------------+-------------+--------------------+----------+--------------------+---------+\n",
            "|          created_at|     tweet_id|               tweet|likes|retweet_count|             source|      user_id|           user_name|   user_screen_name|    user_description|     user_join_date|user_followers_count|       user_location|      lat|       long|             city|             country|    continent|               state|state_code|        collected_at|Candidate|\n",
            "+--------------------+-------------+--------------------+-----+-------------+-------------------+-------------+--------------------+-------------------+--------------------+-------------------+--------------------+--------------------+---------+-----------+-----------------+--------------------+-------------+--------------------+----------+--------------------+---------+\n",
            "| 2020-10-15 00:00:01|1.31652925E18|#Elecciones2020 |...|  0.0|          0.0|          TweetDeck| 3.60666528E8|  El Sol Latino News|    elsollatinonews|🌐 Noticias de in...|2011-08-23 15:33:45|              1860.0|Philadelphia, PA ...| 25.77427|  -80.19366|             null|United States of ...|North America|             Florida|        FL| 2020-10-21 00:00:00|    TRUMP|\n",
            "| 2020-10-15 00:00:01|1.31652925E18|Usa 2020, Trump c...| 26.0|          9.0|   Social Mediaset | 3.31617632E8|             Tgcom24|    MediasetTgcom24|Profilo ufficiale...|2011-07-08 13:12:20|           1067661.0|                null|     null|       null|             null|                null|         null|                null|      null|2020-10-21 00:00:...|    TRUMP|\n",
            "| 2020-10-15 00:00:02|1.31652925E18|#Trump: As a stud...|  2.0|          1.0|    Twitter Web App|    8436472.0|              snarke|             snarke|Will mock for foo...|2007-08-26 05:56:11|              1185.0|            Portland| 45.52025|-122.674194|         Portland|United States of ...|North America|              Oregon|        OR|2020-10-21 00:00:...|    TRUMP|\n",
            "| 2020-10-15 00:00:02|1.31652925E18|2 hours since las...|  0.0|          0.0|      Trumpytweeter| 8.2835557E17|       Trumpytweeter|      trumpytweeter|If he doesn't twe...|2017-02-05 21:32:17|                32.0|                null|     null|       null|             null|                null|         null|                null|      null|2020-10-21 00:00:...|    TRUMP|\n",
            "| 2020-10-15 00:00:08|1.31652925E18|You get a tie! An...|  4.0|          3.0| Twitter for iPhone|    4.74138E7|Rana Abtar - رنا ...|          Ranaabtar|Washington Corres...|2009-06-15 19:05:35|              5393.0|       Washington DC|38.894993|  -77.03656|       Washington|United States of ...|North America|District of Columbia|        DC|2020-10-21 00:00:...|    TRUMP|\n",
            "| 2020-10-15 00:00:17|1.31652925E18|@CLady62 Her 15 m...|  2.0|          0.0|Twitter for Android| 1.13841613E9|        Farris Flagg|        FarrisFlagg|#BidenHarris2020 ...|2013-02-01 01:37:38|              2363.0|   Perris,California| 33.78252|-117.228645|             null|United States of ...|North America|          California|        CA|2020-10-21 00:00:...|    TRUMP|\n",
            "| 2020-10-15 00:00:17|1.31652925E18|@richardmarx Glad...|  0.0|          0.0| Twitter for iPhone| 7.6740187E17|      Michael Wilson|        wilsonfire9|                null|2016-08-21 16:43:51|                75.0|          Powell, TN|     null|       null|             null|                null|         null|                null|      null|2020-10-21 00:00:...|    TRUMP|\n",
            "| 2020-10-15 00:00:18|1.31652925E18|@DeeviousDenise @...|  0.0|          0.0| Twitter for iPhone| 9.0076109E17|Stacey Gulledge ?...|        sm_gulledge|Patriot, Wife, “S...|2017-08-24 16:45:49|               766.0|           Ohio, USA|40.225357|  -82.68814|             null|United States of ...|North America|                Ohio|        OH|2020-10-21 00:00:...|    TRUMP|\n",
            "| 2020-10-15 00:00:20|1.31652925E18|One of the single...|  0.0|          0.0|    Twitter Web App|  5.4047686E8|              Jamieo|           jamieo33|Don't know what I...|2012-03-30 00:30:54|               151.0|   Pennsylvania, USA| 40.96999|  -77.72788|             null|United States of ...|North America|        Pennsylvania|        PA|2020-10-21 00:00:...|    TRUMP|\n",
            "| 2020-10-15 00:00:21|1.31652925E18|#Election2020 #Tr...|  0.0|          0.0|    Twitter Web App|1.30553303E18|        Johnny Quest|      JohnnyQuest22|Independent\\n\\nWh...|2020-09-14 15:45:18|                 8.0|                null|     null|       null|             null|                null|         null|                null|      null|2020-10-21 00:00:...|    TRUMP|\n",
            "| 2020-10-15 00:00:23|1.31652938E18|\"\"\"IS THIS WRONG?...| null|         null|               null|         null|                null|               null|                null|               null|                null|                null|     null|       null|             null|                null|         null|                null|      null|                null|    TRUMP|\n",
            "|#AmyConeyBarrett ...|          0.0|                 0.0| null| 3.05727904E8| Dose of Dissonance|         null|YOUTUBE CHANNEL: ...|2011-05-26 18:09:32|              4622.0|               null|                null|                null|     null|       null|             null|                null|         null|2020-10-21 00:00:...|      null|                null|    TRUMP|\n",
            "| 2020-10-15 00:00:25|1.31652938E18|In 2020, #NYPost ...|  0.0|          0.0| Twitter for iPhone|  1.9940334E7|Change Illinois |...|     changeillinois|Illinois, home of...|2009-02-02 23:08:28|              1396.0|   Chicago, Illinois| 41.87556|  -87.62442|          Chicago|United States of ...|North America|            Illinois|        IL|2020-10-21 00:00:...|    TRUMP|\n",
            "| 2020-10-15 00:00:26|1.31652938E18|#Trump #President...|  3.0|          5.0|Twitter for Android|1.24331538E18|        Ron Burgundy|      Anchorman_USA|I'm kind of a Big...|2020-03-26 23:14:28|               496.0|       San Diego, CA|32.717422| -117.16277|        San Diego|United States of ...|North America|          California|        CA|2020-10-21 00:00:...|    TRUMP|\n",
            "| 2020-10-15 00:00:31|1.31652938E18|@Susan_Hutch @Joe...|  2.0|          0.0|    Twitter Web App|  3.4395616E8|     Sebastian White|          SebWrites|Tortured, literar...|2011-07-28 10:07:32|              2755.0|Edinburgh ~ Heart...|55.953346|  -3.188375|City of Edinburgh|      United Kingdom|       Europe|            Scotland|       SCT|2020-10-21 00:00:...|    TRUMP|\n",
            "| 2020-10-15 00:00:31|1.31652938E18|►► Tell Politicia...|  0.0|          0.0|      Freebie-Depot| 1.03083216E8|    🆓 Freebie Depot|       FreebieDepot|Free Stuff - No F...|2010-01-08 20:44:21|              6402.0|USA - Land of the...|     null|       null|             null|                null|         null|                null|      null|2020-10-21 00:00:...|    TRUMP|\n",
            "| 2020-10-15 00:00:42|1.31652938E18|@meiselasb I wond...|  3.0|          1.0|    Twitter Web App| 8.3237765E17|          Mark Rager|        Hervorrager|Diploma-Biologist...|2017-02-16 23:54:29|               828.0|             Germany| 51.08342|  10.423447|             null|             Germany|       Europe|                null|      null|2020-10-21 00:00:...|    TRUMP|\n",
            "| 2020-10-15 00:00:42|1.31652938E18|#Ukraine @RealDon...|  0.0|          2.0|    Twitter Web App|  3.4395616E8|     Sebastian White|          SebWrites|Tortured, literar...|2011-07-28 10:07:32|              2755.0|Edinburgh ~ Heart...|55.953346|  -3.188375|City of Edinburgh|      United Kingdom|       Europe|            Scotland|       SCT|2020-10-21 00:00:...|    TRUMP|\n",
            "| 2020-10-15 00:00:44|1.31652938E18|Now Open! Create ...|  0.0|          0.0|     Hootsuite Inc.|  2.1932048E7|     OfficePools.com|    officepools_com|Visit https://t.c...|2009-02-25 22:52:43|               967.0|                null|     null|       null|             null|                null|         null|                null|      null|2020-10-21 00:00:...|    TRUMP|\n",
            "| 2020-10-15 00:00:55|1.31652938E18|#Trump https://t....|  1.0|          1.0|    Twitter Web App|1.08338653E18|              Cheryl|     Cheryl84037124|                null|2019-01-10 15:34:08|                49.0|                null|     null|       null|             null|                null|         null|                null|      null|2020-10-21 00:00:...|    TRUMP|\n",
            "+--------------------+-------------+--------------------+-----+-------------+-------------------+-------------+--------------------+-------------------+--------------------+-------------------+--------------------+--------------------+---------+-----------+-----------------+--------------------+-------------+--------------------+----------+--------------------+---------+\n",
            "only showing top 20 rows\n",
            "\n"
          ]
        }
      ]
    },
    {
      "cell_type": "code",
      "source": [
        "biden_df = biden_df.withColumn(\"Candidate\", lit('BIDEN'))\n",
        "biden_df.show()"
      ],
      "metadata": {
        "colab": {
          "base_uri": "https://localhost:8080/"
        },
        "id": "KbC4koSq8KCh",
        "outputId": "41b5652f-0e37-47c0-e334-c0963411e303"
      },
      "execution_count": 13,
      "outputs": [
        {
          "output_type": "stream",
          "name": "stdout",
          "text": [
            "+--------------------+-------------+--------------------+-----+-------------+-------------------+-------------+--------------------+-------------------+--------------------+--------------------+--------------------+--------------------+---------+----------+-----------+--------------------+--------------------+--------------------+----------+--------------------+---------+\n",
            "|          created_at|     tweet_id|               tweet|likes|retweet_count|             source|      user_id|           user_name|   user_screen_name|    user_description|      user_join_date|user_followers_count|       user_location|      lat|      long|       city|             country|           continent|               state|state_code|        collected_at|Candidate|\n",
            "+--------------------+-------------+--------------------+-----+-------------+-------------------+-------------+--------------------+-------------------+--------------------+--------------------+--------------------+--------------------+---------+----------+-----------+--------------------+--------------------+--------------------+----------+--------------------+---------+\n",
            "| 2020-10-15 00:00:01|1.31652925E18|#Elecciones2020 |...|  0.0|          0.0|          TweetDeck| 3.60666528E8|  El Sol Latino News|    elsollatinonews|🌐 Noticias de in...| 2011-08-23 15:33:45|              1860.0|Philadelphia, PA ...| 25.77427| -80.19366|       null|United States of ...|       North America|             Florida|        FL| 2020-10-21 00:00:00|    BIDEN|\n",
            "| 2020-10-15 00:00:18|1.31652925E18|#HunterBiden #Hun...|  0.0|          0.0|   Twitter for iPad|  8.0990445E8|       Cheri A. 🇺🇸|       Biloximeemaw|Locked and loaded...| 2012-09-08 01:03:57|              6628.0|                null|     null|      null|       null|                null|                null|                null|      null|2020-10-21 00:00:...|    BIDEN|\n",
            "| 2020-10-15 00:00:20|1.31652925E18|@IslandGirlPRV @B...|  0.0|          0.0|    Twitter Web App|  3.4941824E9|          Flag Waver|        Flag_Wavers|                null| 2015-08-30 19:38:21|              1536.0|Golden Valley Ari...|46.304035|-109.17143|       null|United States of ...|       North America|             Montana|        MT|2020-10-21 00:00:...|    BIDEN|\n",
            "| 2020-10-15 00:00:21|1.31652925E18|@chrislongview Wa...|  0.0|          0.0| Twitter for iPhone| 8.2425961E17|       Michelle Ferg|      MichelleFerg4|                null| 2017-01-25 14:16:17|                27.0|                null|     null|      null|       null|                null|                null|                null|      null|2020-10-21 00:00:...|    BIDEN|\n",
            "| 2020-10-15 00:00:22|1.31652925E18|#censorship #Hunt...|  1.0|          0.0|    Twitter Web App|1.03280694E18|      the Gold State|      theegoldstate|A Silicon Valley ...| 2018-08-24 01:49:01|               390.0|     California, USA| 36.70146|  -118.756|       null|United States of ...|       North America|          California|        CA|2020-10-21 00:00:...|    BIDEN|\n",
            "| 2020-10-15 00:00:23|1.31652938E18|\"\"\"IS THIS WRONG?...| null|         null|               null|         null|                null|               null|                null|                null|                null|                null|     null|      null|       null|                null|                null|                null|      null|                null|    BIDEN|\n",
            "|#AmyConeyBarrett ...|          0.0|                 0.0| null| 3.05727904E8| Dose of Dissonance|         null|YOUTUBE CHANNEL: ...|2011-05-26 18:09:32|              4622.0|                null|                null|                null|     null|      null|       null|                null|                null|2020-10-21 00:00:...|      null|                null|    BIDEN|\n",
            "| 2020-10-15 00:00:25|1.31652938E18|In 2020, #NYPost ...|  0.0|          0.0| Twitter for iPhone|  1.9940334E7|Change Illinois |...|     changeillinois|Illinois, home of...| 2009-02-02 23:08:28|              1397.0|   Chicago, Illinois| 41.87556| -87.62442|    Chicago|United States of ...|       North America|            Illinois|        IL|2020-10-21 00:00:...|    BIDEN|\n",
            "| 2020-10-15 00:00:31|1.31652938E18|►► Tell Politicia...|  0.0|          0.0|      Freebie-Depot| 1.03083216E8|    🆓 Freebie Depot|       FreebieDepot|Free Stuff - No F...| 2010-01-08 20:44:21|              6402.0|USA - Land of the...|     null|      null|       null|                null|                null|                null|      null|2020-10-21 00:00:...|    BIDEN|\n",
            "| 2020-10-15 00:00:36|1.31652938E18|#Biden https://t....|  0.0|          0.0|    Twitter Web App|1.27256844E18|             Kenneth|      Kennethuteliv|                null| 2020-06-15 16:35:31|               103.0|                null|     null|      null|       null|                null|                null|                null|      null|2020-10-21 00:00:...|    BIDEN|\n",
            "| 2020-10-15 00:00:41|1.31652938E18|Proof  Bidens are...|  1.0|          1.0|Twitter for Android|1.27565848E18|      Jake Rivendale|      JakeRivendale|                null| 2020-06-24 05:15:06|                80.0|                null|     null|      null|       null|                null|                null|                null|      null|2020-10-21 00:00:...|    BIDEN|\n",
            "| 2020-10-15 00:00:44|1.31652938E18|Now Open! Create ...|  0.0|          0.0|     Hootsuite Inc.|  2.1932048E7|     OfficePools.com|    officepools_com|Visit https://t.c...| 2009-02-25 22:52:43|               967.0|                null|     null|      null|       null|                null|                null|                null|      null|2020-10-21 00:00:...|    BIDEN|\n",
            "| 2020-10-15 00:00:57|1.31652952E18|FBI Allegedly Obt...|  0.0|          0.0|Twitter for Android| 9.6073869E17|           RLCompton|     NewfoundStudio|\"\"\"There are thin...| and in between a...|                null|               266.0|     null|   37.5726|-85.1551411|                null|United States of ...|       North America|  Kentucky|                  KY|    BIDEN|\n",
            "| 2020-10-15 00:01:03|1.31652952E18|#JoeBiden was the...|  0.0|          1.0|Twitter for Android|1.24026891E18|       Lilmissnoname|      TwiggyTulip65|Proud Republican ...| 2020-03-18 13:28:56|               190.0|                null|     null|      null|       null|                null|                null|                null|      null|2020-10-21 00:00:...|    BIDEN|\n",
            "| 2020-10-15 00:01:15|1.31652952E18|Y’all Just Lockin...|  0.0|          0.0|       ReverbNation|   8.341048E7|🆎➕TÿÇkØ🇧🇸 🐲🐉...|       HipHopMatrix|#ARAWAK (https://...| 2009-10-18 18:07:33|              4373.0|              H-Town|     null|      null|       null|                null|                null|                null|      null|2020-10-21 00:00:...|    BIDEN|\n",
            "| 2020-10-15 00:01:16|1.31652952E18|@tedcruz @cc125 #...|  1.0|          0.0|    Twitter Web App|1.31004007E18|        Infamous One|      InfamousOne13|\"\"\"The company yo...|                null|                null|                null|     null|      null|       null|                null|                null|                null|      null|                null|    BIDEN|\n",
            "|      - Semper Fi -\"|         null|               360.0| null|         null|               null|         null|                null|               null|                null|                null|                null|                null|     null|      null|       null|                null|                null|                null|      null|                null|    BIDEN|\n",
            "| 2020-10-15 00:01:20|1.31652952E18|#IceCube isn’t a ...|  1.0|          1.0| Twitter for iPhone| 2.85131936E8|𝓐𝓵𝓮𝔁𝓲𝓪 𝓜𝓪...|      alexiamariee_|snap: 𝒜𝓁𝑒𝓍𝒾?...| 2011-04-20 15:50:33|               582.0|            🇨🇱🇧🇸|     null|      null|       null|                null|                null|                null|      null|2020-10-21 00:00:...|    BIDEN|\n",
            "| 2020-10-15 00:01:20|1.31652952E18|BREAKING — Twitte...|  1.0|          1.0| Twitter for iPhone|1.24722332E18|       Insider Paper|    TheInsiderPaper|Insider Paper is ...| 2020-04-06 18:09:10|              1200.0|                null|     null|      null|       null|                null|                null|                null|      null|2020-10-21 00:00:...|    BIDEN|\n",
            "| 2020-10-15 00:01:23|1.31652952E18|\"Comments on this...|  0.0|          0.0|    Twitter Web App|  1.0165928E8|         John Ubaldi|      ubaldireports|Just Facts... No ...| 2010-01-04 04:34:39|                83.0|      Tampa, Florida| 27.94776| -82.45844|      Tampa|United States of ...|       North America|             Florida|        FL|2020-10-21 00:00:...|    BIDEN|\n",
            "+--------------------+-------------+--------------------+-----+-------------+-------------------+-------------+--------------------+-------------------+--------------------+--------------------+--------------------+--------------------+---------+----------+-----------+--------------------+--------------------+--------------------+----------+--------------------+---------+\n",
            "only showing top 20 rows\n",
            "\n"
          ]
        }
      ]
    },
    {
      "cell_type": "code",
      "source": [
        "data = trump_df.union(biden_df)\n",
        "data.cache()\n",
        "data.show()"
      ],
      "metadata": {
        "colab": {
          "base_uri": "https://localhost:8080/"
        },
        "id": "4m1vgbR08YFK",
        "outputId": "257a686b-0ac2-42f1-a83f-b539c91c603b"
      },
      "execution_count": 14,
      "outputs": [
        {
          "output_type": "stream",
          "name": "stdout",
          "text": [
            "+--------------------+-------------+--------------------+-----+-------------+-------------------+-------------+--------------------+-------------------+--------------------+-------------------+--------------------+--------------------+---------+-----------+-----------------+--------------------+-------------+--------------------+----------+--------------------+---------+\n",
            "|          created_at|     tweet_id|               tweet|likes|retweet_count|             source|      user_id|           user_name|   user_screen_name|    user_description|     user_join_date|user_followers_count|       user_location|      lat|       long|             city|             country|    continent|               state|state_code|        collected_at|Candidate|\n",
            "+--------------------+-------------+--------------------+-----+-------------+-------------------+-------------+--------------------+-------------------+--------------------+-------------------+--------------------+--------------------+---------+-----------+-----------------+--------------------+-------------+--------------------+----------+--------------------+---------+\n",
            "| 2020-10-15 00:00:01|1.31652925E18|#Elecciones2020 |...|  0.0|          0.0|          TweetDeck| 3.60666528E8|  El Sol Latino News|    elsollatinonews|🌐 Noticias de in...|2011-08-23 15:33:45|              1860.0|Philadelphia, PA ...| 25.77427|  -80.19366|             null|United States of ...|North America|             Florida|        FL| 2020-10-21 00:00:00|    TRUMP|\n",
            "| 2020-10-15 00:00:01|1.31652925E18|Usa 2020, Trump c...| 26.0|          9.0|   Social Mediaset | 3.31617632E8|             Tgcom24|    MediasetTgcom24|Profilo ufficiale...|2011-07-08 13:12:20|           1067661.0|                null|     null|       null|             null|                null|         null|                null|      null|2020-10-21 00:00:...|    TRUMP|\n",
            "| 2020-10-15 00:00:02|1.31652925E18|#Trump: As a stud...|  2.0|          1.0|    Twitter Web App|    8436472.0|              snarke|             snarke|Will mock for foo...|2007-08-26 05:56:11|              1185.0|            Portland| 45.52025|-122.674194|         Portland|United States of ...|North America|              Oregon|        OR|2020-10-21 00:00:...|    TRUMP|\n",
            "| 2020-10-15 00:00:02|1.31652925E18|2 hours since las...|  0.0|          0.0|      Trumpytweeter| 8.2835557E17|       Trumpytweeter|      trumpytweeter|If he doesn't twe...|2017-02-05 21:32:17|                32.0|                null|     null|       null|             null|                null|         null|                null|      null|2020-10-21 00:00:...|    TRUMP|\n",
            "| 2020-10-15 00:00:08|1.31652925E18|You get a tie! An...|  4.0|          3.0| Twitter for iPhone|    4.74138E7|Rana Abtar - رنا ...|          Ranaabtar|Washington Corres...|2009-06-15 19:05:35|              5393.0|       Washington DC|38.894993|  -77.03656|       Washington|United States of ...|North America|District of Columbia|        DC|2020-10-21 00:00:...|    TRUMP|\n",
            "| 2020-10-15 00:00:17|1.31652925E18|@CLady62 Her 15 m...|  2.0|          0.0|Twitter for Android| 1.13841613E9|        Farris Flagg|        FarrisFlagg|#BidenHarris2020 ...|2013-02-01 01:37:38|              2363.0|   Perris,California| 33.78252|-117.228645|             null|United States of ...|North America|          California|        CA|2020-10-21 00:00:...|    TRUMP|\n",
            "| 2020-10-15 00:00:17|1.31652925E18|@richardmarx Glad...|  0.0|          0.0| Twitter for iPhone| 7.6740187E17|      Michael Wilson|        wilsonfire9|                null|2016-08-21 16:43:51|                75.0|          Powell, TN|     null|       null|             null|                null|         null|                null|      null|2020-10-21 00:00:...|    TRUMP|\n",
            "| 2020-10-15 00:00:18|1.31652925E18|@DeeviousDenise @...|  0.0|          0.0| Twitter for iPhone| 9.0076109E17|Stacey Gulledge ?...|        sm_gulledge|Patriot, Wife, “S...|2017-08-24 16:45:49|               766.0|           Ohio, USA|40.225357|  -82.68814|             null|United States of ...|North America|                Ohio|        OH|2020-10-21 00:00:...|    TRUMP|\n",
            "| 2020-10-15 00:00:20|1.31652925E18|One of the single...|  0.0|          0.0|    Twitter Web App|  5.4047686E8|              Jamieo|           jamieo33|Don't know what I...|2012-03-30 00:30:54|               151.0|   Pennsylvania, USA| 40.96999|  -77.72788|             null|United States of ...|North America|        Pennsylvania|        PA|2020-10-21 00:00:...|    TRUMP|\n",
            "| 2020-10-15 00:00:21|1.31652925E18|#Election2020 #Tr...|  0.0|          0.0|    Twitter Web App|1.30553303E18|        Johnny Quest|      JohnnyQuest22|Independent\\n\\nWh...|2020-09-14 15:45:18|                 8.0|                null|     null|       null|             null|                null|         null|                null|      null|2020-10-21 00:00:...|    TRUMP|\n",
            "| 2020-10-15 00:00:23|1.31652938E18|\"\"\"IS THIS WRONG?...| null|         null|               null|         null|                null|               null|                null|               null|                null|                null|     null|       null|             null|                null|         null|                null|      null|                null|    TRUMP|\n",
            "|#AmyConeyBarrett ...|          0.0|                 0.0| null| 3.05727904E8| Dose of Dissonance|         null|YOUTUBE CHANNEL: ...|2011-05-26 18:09:32|              4622.0|               null|                null|                null|     null|       null|             null|                null|         null|2020-10-21 00:00:...|      null|                null|    TRUMP|\n",
            "| 2020-10-15 00:00:25|1.31652938E18|In 2020, #NYPost ...|  0.0|          0.0| Twitter for iPhone|  1.9940334E7|Change Illinois |...|     changeillinois|Illinois, home of...|2009-02-02 23:08:28|              1396.0|   Chicago, Illinois| 41.87556|  -87.62442|          Chicago|United States of ...|North America|            Illinois|        IL|2020-10-21 00:00:...|    TRUMP|\n",
            "| 2020-10-15 00:00:26|1.31652938E18|#Trump #President...|  3.0|          5.0|Twitter for Android|1.24331538E18|        Ron Burgundy|      Anchorman_USA|I'm kind of a Big...|2020-03-26 23:14:28|               496.0|       San Diego, CA|32.717422| -117.16277|        San Diego|United States of ...|North America|          California|        CA|2020-10-21 00:00:...|    TRUMP|\n",
            "| 2020-10-15 00:00:31|1.31652938E18|@Susan_Hutch @Joe...|  2.0|          0.0|    Twitter Web App|  3.4395616E8|     Sebastian White|          SebWrites|Tortured, literar...|2011-07-28 10:07:32|              2755.0|Edinburgh ~ Heart...|55.953346|  -3.188375|City of Edinburgh|      United Kingdom|       Europe|            Scotland|       SCT|2020-10-21 00:00:...|    TRUMP|\n",
            "| 2020-10-15 00:00:31|1.31652938E18|►► Tell Politicia...|  0.0|          0.0|      Freebie-Depot| 1.03083216E8|    🆓 Freebie Depot|       FreebieDepot|Free Stuff - No F...|2010-01-08 20:44:21|              6402.0|USA - Land of the...|     null|       null|             null|                null|         null|                null|      null|2020-10-21 00:00:...|    TRUMP|\n",
            "| 2020-10-15 00:00:42|1.31652938E18|@meiselasb I wond...|  3.0|          1.0|    Twitter Web App| 8.3237765E17|          Mark Rager|        Hervorrager|Diploma-Biologist...|2017-02-16 23:54:29|               828.0|             Germany| 51.08342|  10.423447|             null|             Germany|       Europe|                null|      null|2020-10-21 00:00:...|    TRUMP|\n",
            "| 2020-10-15 00:00:42|1.31652938E18|#Ukraine @RealDon...|  0.0|          2.0|    Twitter Web App|  3.4395616E8|     Sebastian White|          SebWrites|Tortured, literar...|2011-07-28 10:07:32|              2755.0|Edinburgh ~ Heart...|55.953346|  -3.188375|City of Edinburgh|      United Kingdom|       Europe|            Scotland|       SCT|2020-10-21 00:00:...|    TRUMP|\n",
            "| 2020-10-15 00:00:44|1.31652938E18|Now Open! Create ...|  0.0|          0.0|     Hootsuite Inc.|  2.1932048E7|     OfficePools.com|    officepools_com|Visit https://t.c...|2009-02-25 22:52:43|               967.0|                null|     null|       null|             null|                null|         null|                null|      null|2020-10-21 00:00:...|    TRUMP|\n",
            "| 2020-10-15 00:00:55|1.31652938E18|#Trump https://t....|  1.0|          1.0|    Twitter Web App|1.08338653E18|              Cheryl|     Cheryl84037124|                null|2019-01-10 15:34:08|                49.0|                null|     null|       null|             null|                null|         null|                null|      null|2020-10-21 00:00:...|    TRUMP|\n",
            "+--------------------+-------------+--------------------+-----+-------------+-------------------+-------------+--------------------+-------------------+--------------------+-------------------+--------------------+--------------------+---------+-----------+-----------------+--------------------+-------------+--------------------+----------+--------------------+---------+\n",
            "only showing top 20 rows\n",
            "\n"
          ]
        }
      ]
    },
    {
      "cell_type": "markdown",
      "source": [
        "## EDA\n",
        "\n",
        "\n",
        "\n",
        "```\n",
        "someone please plot graphs for each one of them\n",
        "```"
      ],
      "metadata": {
        "id": "kczyT_jCEi7j"
      }
    },
    {
      "cell_type": "code",
      "source": [
        "## Checking the data imbalance\n",
        "data.groupBy('Candidate').count().withColumnRenamed(\"count\",\"Number of Data\").show()"
      ],
      "metadata": {
        "colab": {
          "base_uri": "https://localhost:8080/"
        },
        "id": "cLGJDlPgC3j6",
        "outputId": "c04386dd-8cf9-45d2-d4fc-a344250f3003"
      },
      "execution_count": 15,
      "outputs": [
        {
          "output_type": "stream",
          "name": "stdout",
          "text": [
            "+---------+--------------+\n",
            "|Candidate|Number of Data|\n",
            "+---------+--------------+\n",
            "|    TRUMP|       1041276|\n",
            "|    BIDEN|        823970|\n",
            "+---------+--------------+\n",
            "\n"
          ]
        }
      ]
    },
    {
      "cell_type": "code",
      "source": [
        "## Comparrsion for the number of tweets\n",
        "data.groupby('Candidate').agg(F.expr('count(tweet)')\\\n",
        "                              .alias('Number of Tweets')).show()"
      ],
      "metadata": {
        "colab": {
          "base_uri": "https://localhost:8080/"
        },
        "id": "H__CBpUBH4AQ",
        "outputId": "322d72f5-ad1e-4468-c4f6-ee349d4c575d"
      },
      "execution_count": 16,
      "outputs": [
        {
          "output_type": "stream",
          "name": "stdout",
          "text": [
            "+---------+----------------+\n",
            "|Candidate|Number of Tweets|\n",
            "+---------+----------------+\n",
            "|    TRUMP|         1008345|\n",
            "|    BIDEN|          801828|\n",
            "+---------+----------------+\n",
            "\n"
          ]
        }
      ]
    },
    {
      "cell_type": "code",
      "source": [
        "# comparison of likes\n",
        "data.groupby('Candidate').agg(F.expr('count(likes)')\\\n",
        "                              .alias('Number of Likes')).show()\n"
      ],
      "metadata": {
        "colab": {
          "base_uri": "https://localhost:8080/"
        },
        "id": "UDHXUZ3iDjmq",
        "outputId": "2fd7d8ef-f1e5-4585-f795-6eb8137b905d"
      },
      "execution_count": 17,
      "outputs": [
        {
          "output_type": "stream",
          "name": "stdout",
          "text": [
            "+---------+---------------+\n",
            "|Candidate|Number of Likes|\n",
            "+---------+---------------+\n",
            "|    TRUMP|         930039|\n",
            "|    BIDEN|         749924|\n",
            "+---------+---------------+\n",
            "\n"
          ]
        }
      ]
    },
    {
      "cell_type": "code",
      "source": [
        "# Can someone please remove the null that is being shown also show only top 10 rows \n",
        "data.groupby('Country').count()\\\n",
        ".withColumnRenamed('count','Number of Data')\\\n",
        ".sort(F.desc('Number of Data')).show()\n"
      ],
      "metadata": {
        "colab": {
          "base_uri": "https://localhost:8080/"
        },
        "id": "EEF0ijQPFQBA",
        "outputId": "b623205b-9780-4d2c-a792-922820dcf2a0"
      },
      "execution_count": 18,
      "outputs": [
        {
          "output_type": "stream",
          "name": "stdout",
          "text": [
            "+--------------------+--------------+\n",
            "|             Country|Number of Data|\n",
            "+--------------------+--------------+\n",
            "|                null|       1081590|\n",
            "|United States of ...|        316181|\n",
            "|       United States|         59192|\n",
            "|      United Kingdom|         55419|\n",
            "|               India|         38786|\n",
            "|             Germany|         32820|\n",
            "|              France|         32245|\n",
            "|              Canada|         26411|\n",
            "|               Italy|         18524|\n",
            "|           Australia|         14201|\n",
            "|              Mexico|         10284|\n",
            "|              Turkey|          9829|\n",
            "|     The Netherlands|          9147|\n",
            "|            Pakistan|          8352|\n",
            "|              Brazil|          8287|\n",
            "|               Spain|          6556|\n",
            "|             Ireland|          5259|\n",
            "|         Netherlands|          5136|\n",
            "|            Colombia|          4229|\n",
            "|           Venezuela|          4041|\n",
            "+--------------------+--------------+\n",
            "only showing top 20 rows\n",
            "\n"
          ]
        }
      ]
    },
    {
      "cell_type": "code",
      "source": [
        "# Making USA to US \n",
        "data = data.withColumn('Country', regexp_replace('Country', 'United States of America', 'US'))\n",
        "data = data.withColumn('Country', regexp_replace('Country', 'United States', 'US'))\n",
        "\n",
        "## Make sure by checking the count of the data \n",
        "data.groupby('Country').count()\\\n",
        ".withColumnRenamed('count','Number of Data')\\\n",
        ".sort(F.desc('Number of Data')).show()"
      ],
      "metadata": {
        "colab": {
          "base_uri": "https://localhost:8080/"
        },
        "id": "npdv7qvAL42c",
        "outputId": "c45f3426-8e1f-4c90-8e3a-1d34477dedf1"
      },
      "execution_count": 19,
      "outputs": [
        {
          "output_type": "stream",
          "name": "stdout",
          "text": [
            "+---------------+--------------+\n",
            "|        Country|Number of Data|\n",
            "+---------------+--------------+\n",
            "|           null|       1081590|\n",
            "|             US|        375374|\n",
            "| United Kingdom|         55419|\n",
            "|          India|         38786|\n",
            "|        Germany|         32820|\n",
            "|         France|         32245|\n",
            "|         Canada|         26411|\n",
            "|          Italy|         18524|\n",
            "|      Australia|         14201|\n",
            "|         Mexico|         10284|\n",
            "|         Turkey|          9829|\n",
            "|The Netherlands|          9147|\n",
            "|       Pakistan|          8352|\n",
            "|         Brazil|          8287|\n",
            "|          Spain|          6556|\n",
            "|        Ireland|          5259|\n",
            "|    Netherlands|          5136|\n",
            "|       Colombia|          4229|\n",
            "|      Venezuela|          4041|\n",
            "|      Argentina|          4022|\n",
            "+---------------+--------------+\n",
            "only showing top 20 rows\n",
            "\n"
          ]
        }
      ]
    },
    {
      "cell_type": "markdown",
      "source": [
        "## Preprocessing the Data(Tweets)"
      ],
      "metadata": {
        "id": "C690EzEMmYBS"
      }
    },
    {
      "cell_type": "code",
      "source": [
        "!pip install nltk\n",
        "nltk.download(\"stopwords\")\n",
        "nltk.download('punkt')"
      ],
      "metadata": {
        "colab": {
          "base_uri": "https://localhost:8080/"
        },
        "id": "elXOry3-o7_9",
        "outputId": "c3aadea5-0633-4c66-9803-3ef1bc195942"
      },
      "execution_count": 20,
      "outputs": [
        {
          "output_type": "stream",
          "name": "stdout",
          "text": [
            "Requirement already satisfied: nltk in /usr/local/lib/python3.7/dist-packages (3.2.5)\n",
            "Requirement already satisfied: six in /usr/local/lib/python3.7/dist-packages (from nltk) (1.15.0)\n",
            "[nltk_data] Downloading package stopwords to /root/nltk_data...\n",
            "[nltk_data]   Package stopwords is already up-to-date!\n",
            "[nltk_data] Downloading package punkt to /root/nltk_data...\n",
            "[nltk_data]   Package punkt is already up-to-date!\n"
          ]
        },
        {
          "output_type": "execute_result",
          "data": {
            "text/plain": [
              "True"
            ]
          },
          "metadata": {},
          "execution_count": 20
        }
      ]
    },
    {
      "cell_type": "code",
      "source": [
        "##### TRY this one by your self\n",
        "# Refer to user defined functions for this application\n",
        "# text = u' This dog \\U0001f602 <a href=\"https://stackoverflow.com/questions/49840965/how-to-add-hyperlinks-to-strings-in-python\">TIC123</a> '\n",
        "# print(text) \n",
        "\n",
        "# def preprocess_tweets(text):#, stem=False, lemmatize=False):\n",
        "#     # Make everything in lower case\n",
        "#     text = text.lower()\n",
        "#     # Remove links, special characters , numbers punctuation etc. \n",
        "#     # Refer - https://stackoverflow.com/questions/33404752/removing-emojis-from-a-string-in-python \n",
        "#     # emoji_pattern = re.compile(\"[\"\n",
        "#     #     u\"\\U0001F600-\\U0001F64F\"  # emoticons\n",
        "#     #     u\"\\U0001F300-\\U0001F5FF\"  # symbols & pictographs\n",
        "#     #     u\"\\U0001F680-\\U0001F6FF\"  # transport & map symbols\n",
        "#     #     u\"\\U0001F1E0-\\U0001F1FF\"  # flags (iOS)\n",
        "#     #                        \"]+\", flags=re.UNICODE)\n",
        "#     # Bottom one is also working try it with the example that I am using \n",
        "#     # I will comment this out so you guys can try\n",
        "#     chars_and_links= r'\\d+|http?\\S+|[^A-Za-z0-9]+'\n",
        "#     text = re.sub(chars_and_links,' ',text)\n",
        "#     #text = re.sub(emoji_pattern,' ',text)\n",
        "#     return text\n",
        "\n",
        "# print(preprocess_tweets(text)"
      ],
      "metadata": {
        "id": "zRZ0vN6quou7"
      },
      "execution_count": 21,
      "outputs": []
    },
    {
      "cell_type": "code",
      "source": [
        "stop_words = set(stopwords.words('english'))\n",
        "ps = PorterStemmer()\n",
        "\n",
        "def preprocess_tweets(text, stem=False, lemmatize=False):\n",
        "    ## If statement for fault tolerance\n",
        "    if isinstance(text,str):\n",
        "        text = text.lower()\n",
        "        # Remove links, special characters , numbers punctuation etc. \n",
        "        chars_and_links= r'\\d+|http?\\S+|[^A-Za-z0-9]+'\n",
        "        # Cleaned the text\n",
        "        text = re.sub(chars_and_links,' ',text)\n",
        "\n",
        "        filtered_text = []\n",
        "        # Tokenize the text\n",
        "        words = word_tokenize(text) \n",
        "        # Remove stopwords and stem\n",
        "        for word in words:\n",
        "            # Words in stop words or not\n",
        "            if not word in stop_words:\n",
        "                if stem:\n",
        "                    filtered_text.append(ps.stem(word))\n",
        "                elif lemmatize:\n",
        "                    filtered_text.append(Word(word).lemmatize())\n",
        "                else:\n",
        "                    filtered_text.append(word)\n",
        "        # Return the filtered text\n",
        "        return filtered_text\n",
        "    else:\n",
        "        return text"
      ],
      "metadata": {
        "id": "YXUSrer5nVkr"
      },
      "execution_count": 22,
      "outputs": []
    },
    {
      "cell_type": "code",
      "source": [
        "# Drop all the NAN values\n",
        "#data.na.drop(subset=[\"tweet\"]).show()\n",
        "\n",
        "\n",
        "## Now to apply this to the text we need to create a user defined function\n",
        "## Refer https://sparkbyexamples.com/pyspark/pyspark-udf-user-defined-function/\n",
        "\n",
        "## Created my udf\n",
        "Preprocess_UDF = udf(lambda x: preprocess_tweets(x))  \n",
        "# \"marketplace\",\"star_rating\").distinct().show(5)\n",
        "# data = data.select(Preprocess_UDF(F.col(\"tweet\")).alias(\"tweet\")).show(5)\n",
        "#.select([F.col(c).cast('float').alias(c) for c in df.columns])\n",
        "\n",
        "data.select(Preprocess_UDF(F.col('tweet').alias('Tokenized_tweet'))).show()"
      ],
      "metadata": {
        "colab": {
          "base_uri": "https://localhost:8080/"
        },
        "id": "ptY9mMkds79R",
        "outputId": "8b87eb8e-3ead-4b67-dd04-61751a40e200"
      },
      "execution_count": 26,
      "outputs": [
        {
          "output_type": "stream",
          "name": "stdout",
          "text": [
            "+----------------------------------+\n",
            "|<lambda>(tweet AS Tokenized_tweet)|\n",
            "+----------------------------------+\n",
            "|              [elecciones, en, ...|\n",
            "|              [usa, trump, cont...|\n",
            "|              [trump, student, ...|\n",
            "|              [hours, since, la...|\n",
            "|              [get, tie, get, t...|\n",
            "|              [clady, minutes, ...|\n",
            "|              [richardmarx, gla...|\n",
            "|              [deeviousdenise, ...|\n",
            "|              [one, single, eff...|\n",
            "|              [election, trump,...|\n",
            "|              [wrong, cory, boo...|\n",
            "|                                []|\n",
            "|              [nypost, censorsh...|\n",
            "|              [trump, president...|\n",
            "|              [susan, hutch, jo...|\n",
            "|              [tell, politician...|\n",
            "|              [meiselasb, wonde...|\n",
            "|              [ukraine, realdon...|\n",
            "|              [open, create, fr...|\n",
            "|                           [trump]|\n",
            "+----------------------------------+\n",
            "only showing top 20 rows\n",
            "\n"
          ]
        }
      ]
    },
    {
      "cell_type": "code",
      "source": [
        "#data_res.show(5)"
      ],
      "metadata": {
        "id": "BhbHG8bGwaXs"
      },
      "execution_count": 24,
      "outputs": []
    },
    {
      "cell_type": "code",
      "source": [
        "#data.show(5)"
      ],
      "metadata": {
        "id": "WadOeVPaz9on"
      },
      "execution_count": 25,
      "outputs": []
    },
    {
      "cell_type": "code",
      "source": [
        "def sentiment_analysis(df):\n",
        "    \n",
        "    # Determine polarity and subjectivity\n",
        "    data['Polarity'] = data['tweetNew'].apply(lambda x: TextBlob(' '.join(x)).sentiment.polarity)\n",
        "    df['Subjectivity'] = df['tweetNew'].apply(lambda x: TextBlob(' '.join(x)).sentiment.subjectivity)\n",
        "    \n",
        "    # Classify overall sentiment\n",
        "    df.loc[df.Polarity > 0,'Sentiment'] = 'positive'\n",
        "    df.loc[df.Polarity == 0,'Sentiment'] = 'neutral'\n",
        "    df.loc[df.Polarity < 0,'Sentiment'] = 'negative'\n",
        "    \n",
        "    return df[['tweet','tweetNew','Polarity','Subjectivity','Sentiment']].head()\n",
        "\n"
      ],
      "metadata": {
        "id": "oeKSDkE6H5VS"
      },
      "execution_count": null,
      "outputs": []
    },
    {
      "cell_type": "code",
      "source": [
        ""
      ],
      "metadata": {
        "id": "l-ze-ZJ_APOh"
      },
      "execution_count": 25,
      "outputs": []
    }
  ]
}