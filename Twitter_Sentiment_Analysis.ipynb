{
  "nbformat": 4,
  "nbformat_minor": 0,
  "metadata": {
    "colab": {
      "name": "Twitter_Sentiment_Analysis.ipynb",
      "provenance": [],
      "machine_shape": "hm",
      "authorship_tag": "ABX9TyMhcZDFfSM0QIJDyCeWjELz"
    },
    "kernelspec": {
      "name": "python3",
      "display_name": "Python 3"
    },
    "language_info": {
      "name": "python"
    }
  },
  "cells": [
    {
      "cell_type": "code",
      "source": [
        ""
      ],
      "metadata": {
        "id": "W5uuOaFEFg_x"
      },
      "execution_count": 3,
      "outputs": []
    },
    {
      "cell_type": "markdown",
      "source": [
        "## Downloading the data from Kaggle"
      ],
      "metadata": {
        "id": "sYCL7wB5Fh0C"
      }
    },
    {
      "cell_type": "code",
      "execution_count": 6,
      "metadata": {
        "id": "qOYJg_BsDDmW"
      },
      "outputs": [],
      "source": [
        "## Prerequisites\n",
        "#!pip install kaggle --upgrade\n",
        "!cp kaggle.json ~/.kaggle/\n",
        "! chmod 600 ~/.kaggle/kaggle.json"
      ]
    },
    {
      "cell_type": "code",
      "source": [
        "## Downloading data command\n",
        "!kaggle datasets download -d manchunhui/us-election-2020-tweets"
      ],
      "metadata": {
        "colab": {
          "base_uri": "https://localhost:8080/"
        },
        "id": "IRuQFE-cE7bp",
        "outputId": "ec12d88d-9f37-4435-f484-94f1f5ce8d50"
      },
      "execution_count": 7,
      "outputs": [
        {
          "output_type": "stream",
          "name": "stdout",
          "text": [
            "Downloading us-election-2020-tweets.zip to /content\n",
            " 95% 336M/353M [00:03<00:00, 79.5MB/s]\n",
            "100% 353M/353M [00:03<00:00, 94.6MB/s]\n"
          ]
        }
      ]
    },
    {
      "cell_type": "code",
      "source": [
        "!mkdir content/data\n",
        "!unzip us-election-2020-tweets.zip -d data"
      ],
      "metadata": {
        "colab": {
          "base_uri": "https://localhost:8080/"
        },
        "id": "GO1eJ1FDF2uP",
        "outputId": "7f345f82-64ec-4de4-f621-a8ad6dfd427e"
      },
      "execution_count": 8,
      "outputs": [
        {
          "output_type": "stream",
          "name": "stdout",
          "text": [
            "mkdir: cannot create directory ‘content/data’: No such file or directory\n",
            "Archive:  us-election-2020-tweets.zip\n",
            "  inflating: data/hashtag_donaldtrump.csv  \n",
            "  inflating: data/hashtag_joebiden.csv  \n"
          ]
        }
      ]
    },
    {
      "cell_type": "markdown",
      "source": [
        "## Download Pyspark"
      ],
      "metadata": {
        "id": "Sz3hB6Dc-GX2"
      }
    },
    {
      "cell_type": "code",
      "source": [
        "!pip install pyspark "
      ],
      "metadata": {
        "id": "V_Cs4IN0-Gfj"
      },
      "execution_count": null,
      "outputs": []
    },
    {
      "cell_type": "markdown",
      "source": [
        "## Import Header Files"
      ],
      "metadata": {
        "id": "tdwfhe3oFpy-"
      }
    },
    {
      "cell_type": "code",
      "source": [
        "## Trying to get perform the code from python perspective\n",
        "\n",
        "## Python \n",
        "import numpy as np\n",
        "import pandas as pd\n",
        "import matplotlib.pyplot as plt\n",
        "import seaborn as sns \n",
        "\n",
        "\n",
        "## Spark\n",
        "import pyspark.sql.functions as F\n",
        "from pyspark.sql import Row\n",
        "from pyspark import SparkContext\n",
        "from pyspark.sql import SparkSession\n",
        "\n",
        "# Create Spark Session\n",
        "spark = SparkSession.builder.master(\"local[1]\").appName('Twitter Sentiment Analysis').getOrCreate()\n",
        "#spark = SparkContext.getOrCreate()\n",
        "\n",
        "# from pyspark.sql import SQLContext\n",
        "\n",
        "# sqlContext = SQLContext(sc)"
      ],
      "metadata": {
        "id": "Q2PUC_Z2FaEY"
      },
      "execution_count": 12,
      "outputs": []
    },
    {
      "cell_type": "code",
      "source": [
        "### Just click cntrl + / to uncomment the respective way you want to do this \n",
        "\n",
        "## Okay so the issue that I run into is that I am unable to read data in using spark\n",
        "## So now I will convert pandas dataframe into spark dataframe \n",
        "## We can do this now and then worry about data loading later \n",
        "\n",
        "\n",
        "# Python\n",
        "trump = pd.read_csv('/content/data/hashtag_donaldtrump.csv',lineterminator='\\n')\n",
        "biden = pd.read_csv('/content/data/hashtag_joebiden.csv',lineterminator='\\n')\n",
        "\n",
        "# print(trump.info())\n",
        "# print(biden.info())\n",
        "\n",
        "## Spark\n",
        "\n",
        "# Creating spark data frame using pandas\n",
        "# trump_df = spark.createDataFrame(trump)\n",
        "# biden_df = spark.createDataFrame(biden)\n",
        "for col in trump.columns: trump[col] = trump[col].map(str)\n",
        "trump_df = spark.createDataFrame(trump)\n",
        "trump_df.cache() # Remember this shit is really important I think \n",
        "\n",
        "\n",
        "## Failed tries these didn't work so just bear this in mind\n",
        "# trump_df = spark.read.option(\"delimiter\", \"\\n\").csv('/content/data/hashtag_donaldtrump.csv')\n",
        "# trump_df = spark.read.option(\"lineterminator\",\"\\n\").csv('/content/data/hashtag_donaldtrump.csv')\n",
        "#trump_df = spark.read.format('csv').option(\"header\", 'true').load(\"/content/data/hashtag_donaldtrump.csv\")\n",
        "#biden_df = spark.read.format('csv').option(\"header\", 'true').load(\"/content/data/hashtag_joebiden.csv\")\n",
        "\n"
      ],
      "metadata": {
        "colab": {
          "base_uri": "https://localhost:8080/"
        },
        "id": "cpeKGK5IH3rG",
        "outputId": "3fd74393-fd50-494a-e804-b33ee0f009cf"
      },
      "execution_count": 17,
      "outputs": [
        {
          "output_type": "execute_result",
          "data": {
            "text/plain": [
              "DataFrame[created_at: string, tweet_id: string, tweet: string, likes: string, retweet_count: string, source: string, user_id: string, user_name: string, user_screen_name: string, user_description: string, user_join_date: string, user_followers_count: string, user_location: string, lat: string, long: string, city: string, country: string, continent: string, state: string, state_code: string, collected_at: string]"
            ]
          },
          "metadata": {},
          "execution_count": 17
        }
      ]
    },
    {
      "cell_type": "code",
      "source": [
        "#frame[‘DataFrame Column’]= frame[‘DataFrame Column’].map(str)\n",
        "\n",
        "# it takes a while to run this took me 3 minutes\n",
        "# Making all columns string type in the pandas dataframe \n",
        "# Then convert the pandas data to spark dataframe\n",
        "# for col in trump.columns: trump[col] = trump[col].map(str)\n",
        "# trump_df = spark.createDataFrame(trump)\n",
        "\n",
        "#trump_df = (spark.read.format(\"csv\").options(header=\"true\").load(\"/content/data/hashtag_donaldtrump.csv\"))"
      ],
      "metadata": {
        "id": "PUEQlfHFny0Q"
      },
      "execution_count": 55,
      "outputs": []
    },
    {
      "cell_type": "code",
      "source": [
        "trump_df.printSchema()"
      ],
      "metadata": {
        "colab": {
          "base_uri": "https://localhost:8080/"
        },
        "id": "DbzZvxNgsjRE",
        "outputId": "97f3a982-d5ff-4927-e5aa-b9e3f5a9c002"
      },
      "execution_count": 18,
      "outputs": [
        {
          "output_type": "stream",
          "name": "stdout",
          "text": [
            "root\n",
            " |-- created_at: string (nullable = true)\n",
            " |-- tweet_id: string (nullable = true)\n",
            " |-- tweet: string (nullable = true)\n",
            " |-- likes: string (nullable = true)\n",
            " |-- retweet_count: string (nullable = true)\n",
            " |-- source: string (nullable = true)\n",
            " |-- user_id: string (nullable = true)\n",
            " |-- user_name: string (nullable = true)\n",
            " |-- user_screen_name: string (nullable = true)\n",
            " |-- user_description: string (nullable = true)\n",
            " |-- user_join_date: string (nullable = true)\n",
            " |-- user_followers_count: string (nullable = true)\n",
            " |-- user_location: string (nullable = true)\n",
            " |-- lat: string (nullable = true)\n",
            " |-- long: string (nullable = true)\n",
            " |-- city: string (nullable = true)\n",
            " |-- country: string (nullable = true)\n",
            " |-- continent: string (nullable = true)\n",
            " |-- state: string (nullable = true)\n",
            " |-- state_code: string (nullable = true)\n",
            " |-- collected_at: string (nullable = true)\n",
            "\n"
          ]
        }
      ]
    },
    {
      "cell_type": "code",
      "source": [
        "# Printing the data frame more than 3 minute now \n",
        "trump_df.show(5)"
      ],
      "metadata": {
        "id": "X4nxWpnQjDzd"
      },
      "execution_count": null,
      "outputs": []
    },
    {
      "cell_type": "code",
      "source": [
        "# Took me 10 minutes remember to run it wisely \n",
        "trump_df.describe()\n",
        "trump_df.printSchema()"
      ],
      "metadata": {
        "id": "vVKTG7N5_55v"
      },
      "execution_count": null,
      "outputs": []
    },
    {
      "cell_type": "code",
      "source": [
        "# Adding a new column to differentiate between tweets of Biden and Trump\n",
        "# Basically adding labels\n",
        "trump[\"Candidate\"] = \"TRUMP\"\n",
        "biden[\"Candidate\"] = \"BIDEN\" \n",
        "\n",
        "# Concat the data frames\n",
        "Data_Mixed = pd.concat([trump,biden])\n",
        "Data_Mixed.sort_values(by='created_at')\n",
        "Data_Mixed.head()"
      ],
      "metadata": {
        "colab": {
          "base_uri": "https://localhost:8080/",
          "height": 542
        },
        "id": "ovv5Atm3IRB4",
        "outputId": "981f2fe1-d567-4866-c23e-276f2037d1fb"
      },
      "execution_count": 13,
      "outputs": [
        {
          "output_type": "execute_result",
          "data": {
            "text/plain": [
              "            created_at      tweet_id  \\\n",
              "0  2020-10-15 00:00:01  1.316529e+18   \n",
              "1  2020-10-15 00:00:01  1.316529e+18   \n",
              "2  2020-10-15 00:00:02  1.316529e+18   \n",
              "3  2020-10-15 00:00:02  1.316529e+18   \n",
              "4  2020-10-15 00:00:08  1.316529e+18   \n",
              "\n",
              "                                               tweet  likes  retweet_count  \\\n",
              "0  #Elecciones2020 | En #Florida: #JoeBiden dice ...    0.0            0.0   \n",
              "1  Usa 2020, Trump contro Facebook e Twitter: cop...   26.0            9.0   \n",
              "2  #Trump: As a student I used to hear for years,...    2.0            1.0   \n",
              "3  2 hours since last tweet from #Trump! Maybe he...    0.0            0.0   \n",
              "4  You get a tie! And you get a tie! #Trump ‘s ra...    4.0            3.0   \n",
              "\n",
              "               source       user_id              user_name user_screen_name  \\\n",
              "0           TweetDeck  3.606665e+08     El Sol Latino News  elsollatinonews   \n",
              "1    Social Mediaset   3.316176e+08                Tgcom24  MediasetTgcom24   \n",
              "2     Twitter Web App  8.436472e+06                 snarke           snarke   \n",
              "3       Trumpytweeter  8.283556e+17          Trumpytweeter    trumpytweeter   \n",
              "4  Twitter for iPhone  4.741380e+07  Rana Abtar - رنا أبتر        Ranaabtar   \n",
              "\n",
              "                                    user_description  ...  \\\n",
              "0  🌐 Noticias de interés para latinos de la costa...  ...   \n",
              "1  Profilo ufficiale di Tgcom24: tutte le notizie...  ...   \n",
              "2  Will mock for food! Freelance writer, blogger,...  ...   \n",
              "3  If he doesn't tweet for some time, should we b...  ...   \n",
              "4  Washington Correspondent, Lebanese-American ,c...  ...   \n",
              "\n",
              "                  user_location        lat        long        city  \\\n",
              "0  Philadelphia, PA / Miami, FL  25.774270  -80.193660         NaN   \n",
              "1                           NaN        NaN         NaN         NaN   \n",
              "2                      Portland  45.520247 -122.674195    Portland   \n",
              "3                           NaN        NaN         NaN         NaN   \n",
              "4                 Washington DC  38.894992  -77.036558  Washington   \n",
              "\n",
              "                    country      continent                 state state_code  \\\n",
              "0  United States of America  North America               Florida         FL   \n",
              "1                       NaN            NaN                   NaN        NaN   \n",
              "2  United States of America  North America                Oregon         OR   \n",
              "3                       NaN            NaN                   NaN        NaN   \n",
              "4  United States of America  North America  District of Columbia         DC   \n",
              "\n",
              "                    collected_at Candidate  \n",
              "0            2020-10-21 00:00:00     TRUMP  \n",
              "1  2020-10-21 00:00:00.373216530     TRUMP  \n",
              "2  2020-10-21 00:00:00.746433060     TRUMP  \n",
              "3  2020-10-21 00:00:01.119649591     TRUMP  \n",
              "4  2020-10-21 00:00:01.492866121     TRUMP  \n",
              "\n",
              "[5 rows x 22 columns]"
            ],
            "text/html": [
              "\n",
              "  <div id=\"df-b0187d16-289b-4f6b-a429-ebcb239b2e6b\">\n",
              "    <div class=\"colab-df-container\">\n",
              "      <div>\n",
              "<style scoped>\n",
              "    .dataframe tbody tr th:only-of-type {\n",
              "        vertical-align: middle;\n",
              "    }\n",
              "\n",
              "    .dataframe tbody tr th {\n",
              "        vertical-align: top;\n",
              "    }\n",
              "\n",
              "    .dataframe thead th {\n",
              "        text-align: right;\n",
              "    }\n",
              "</style>\n",
              "<table border=\"1\" class=\"dataframe\">\n",
              "  <thead>\n",
              "    <tr style=\"text-align: right;\">\n",
              "      <th></th>\n",
              "      <th>created_at</th>\n",
              "      <th>tweet_id</th>\n",
              "      <th>tweet</th>\n",
              "      <th>likes</th>\n",
              "      <th>retweet_count</th>\n",
              "      <th>source</th>\n",
              "      <th>user_id</th>\n",
              "      <th>user_name</th>\n",
              "      <th>user_screen_name</th>\n",
              "      <th>user_description</th>\n",
              "      <th>...</th>\n",
              "      <th>user_location</th>\n",
              "      <th>lat</th>\n",
              "      <th>long</th>\n",
              "      <th>city</th>\n",
              "      <th>country</th>\n",
              "      <th>continent</th>\n",
              "      <th>state</th>\n",
              "      <th>state_code</th>\n",
              "      <th>collected_at</th>\n",
              "      <th>Candidate</th>\n",
              "    </tr>\n",
              "  </thead>\n",
              "  <tbody>\n",
              "    <tr>\n",
              "      <th>0</th>\n",
              "      <td>2020-10-15 00:00:01</td>\n",
              "      <td>1.316529e+18</td>\n",
              "      <td>#Elecciones2020 | En #Florida: #JoeBiden dice ...</td>\n",
              "      <td>0.0</td>\n",
              "      <td>0.0</td>\n",
              "      <td>TweetDeck</td>\n",
              "      <td>3.606665e+08</td>\n",
              "      <td>El Sol Latino News</td>\n",
              "      <td>elsollatinonews</td>\n",
              "      <td>🌐 Noticias de interés para latinos de la costa...</td>\n",
              "      <td>...</td>\n",
              "      <td>Philadelphia, PA / Miami, FL</td>\n",
              "      <td>25.774270</td>\n",
              "      <td>-80.193660</td>\n",
              "      <td>NaN</td>\n",
              "      <td>United States of America</td>\n",
              "      <td>North America</td>\n",
              "      <td>Florida</td>\n",
              "      <td>FL</td>\n",
              "      <td>2020-10-21 00:00:00</td>\n",
              "      <td>TRUMP</td>\n",
              "    </tr>\n",
              "    <tr>\n",
              "      <th>1</th>\n",
              "      <td>2020-10-15 00:00:01</td>\n",
              "      <td>1.316529e+18</td>\n",
              "      <td>Usa 2020, Trump contro Facebook e Twitter: cop...</td>\n",
              "      <td>26.0</td>\n",
              "      <td>9.0</td>\n",
              "      <td>Social Mediaset</td>\n",
              "      <td>3.316176e+08</td>\n",
              "      <td>Tgcom24</td>\n",
              "      <td>MediasetTgcom24</td>\n",
              "      <td>Profilo ufficiale di Tgcom24: tutte le notizie...</td>\n",
              "      <td>...</td>\n",
              "      <td>NaN</td>\n",
              "      <td>NaN</td>\n",
              "      <td>NaN</td>\n",
              "      <td>NaN</td>\n",
              "      <td>NaN</td>\n",
              "      <td>NaN</td>\n",
              "      <td>NaN</td>\n",
              "      <td>NaN</td>\n",
              "      <td>2020-10-21 00:00:00.373216530</td>\n",
              "      <td>TRUMP</td>\n",
              "    </tr>\n",
              "    <tr>\n",
              "      <th>2</th>\n",
              "      <td>2020-10-15 00:00:02</td>\n",
              "      <td>1.316529e+18</td>\n",
              "      <td>#Trump: As a student I used to hear for years,...</td>\n",
              "      <td>2.0</td>\n",
              "      <td>1.0</td>\n",
              "      <td>Twitter Web App</td>\n",
              "      <td>8.436472e+06</td>\n",
              "      <td>snarke</td>\n",
              "      <td>snarke</td>\n",
              "      <td>Will mock for food! Freelance writer, blogger,...</td>\n",
              "      <td>...</td>\n",
              "      <td>Portland</td>\n",
              "      <td>45.520247</td>\n",
              "      <td>-122.674195</td>\n",
              "      <td>Portland</td>\n",
              "      <td>United States of America</td>\n",
              "      <td>North America</td>\n",
              "      <td>Oregon</td>\n",
              "      <td>OR</td>\n",
              "      <td>2020-10-21 00:00:00.746433060</td>\n",
              "      <td>TRUMP</td>\n",
              "    </tr>\n",
              "    <tr>\n",
              "      <th>3</th>\n",
              "      <td>2020-10-15 00:00:02</td>\n",
              "      <td>1.316529e+18</td>\n",
              "      <td>2 hours since last tweet from #Trump! Maybe he...</td>\n",
              "      <td>0.0</td>\n",
              "      <td>0.0</td>\n",
              "      <td>Trumpytweeter</td>\n",
              "      <td>8.283556e+17</td>\n",
              "      <td>Trumpytweeter</td>\n",
              "      <td>trumpytweeter</td>\n",
              "      <td>If he doesn't tweet for some time, should we b...</td>\n",
              "      <td>...</td>\n",
              "      <td>NaN</td>\n",
              "      <td>NaN</td>\n",
              "      <td>NaN</td>\n",
              "      <td>NaN</td>\n",
              "      <td>NaN</td>\n",
              "      <td>NaN</td>\n",
              "      <td>NaN</td>\n",
              "      <td>NaN</td>\n",
              "      <td>2020-10-21 00:00:01.119649591</td>\n",
              "      <td>TRUMP</td>\n",
              "    </tr>\n",
              "    <tr>\n",
              "      <th>4</th>\n",
              "      <td>2020-10-15 00:00:08</td>\n",
              "      <td>1.316529e+18</td>\n",
              "      <td>You get a tie! And you get a tie! #Trump ‘s ra...</td>\n",
              "      <td>4.0</td>\n",
              "      <td>3.0</td>\n",
              "      <td>Twitter for iPhone</td>\n",
              "      <td>4.741380e+07</td>\n",
              "      <td>Rana Abtar - رنا أبتر</td>\n",
              "      <td>Ranaabtar</td>\n",
              "      <td>Washington Correspondent, Lebanese-American ,c...</td>\n",
              "      <td>...</td>\n",
              "      <td>Washington DC</td>\n",
              "      <td>38.894992</td>\n",
              "      <td>-77.036558</td>\n",
              "      <td>Washington</td>\n",
              "      <td>United States of America</td>\n",
              "      <td>North America</td>\n",
              "      <td>District of Columbia</td>\n",
              "      <td>DC</td>\n",
              "      <td>2020-10-21 00:00:01.492866121</td>\n",
              "      <td>TRUMP</td>\n",
              "    </tr>\n",
              "  </tbody>\n",
              "</table>\n",
              "<p>5 rows × 22 columns</p>\n",
              "</div>\n",
              "      <button class=\"colab-df-convert\" onclick=\"convertToInteractive('df-b0187d16-289b-4f6b-a429-ebcb239b2e6b')\"\n",
              "              title=\"Convert this dataframe to an interactive table.\"\n",
              "              style=\"display:none;\">\n",
              "        \n",
              "  <svg xmlns=\"http://www.w3.org/2000/svg\" height=\"24px\"viewBox=\"0 0 24 24\"\n",
              "       width=\"24px\">\n",
              "    <path d=\"M0 0h24v24H0V0z\" fill=\"none\"/>\n",
              "    <path d=\"M18.56 5.44l.94 2.06.94-2.06 2.06-.94-2.06-.94-.94-2.06-.94 2.06-2.06.94zm-11 1L8.5 8.5l.94-2.06 2.06-.94-2.06-.94L8.5 2.5l-.94 2.06-2.06.94zm10 10l.94 2.06.94-2.06 2.06-.94-2.06-.94-.94-2.06-.94 2.06-2.06.94z\"/><path d=\"M17.41 7.96l-1.37-1.37c-.4-.4-.92-.59-1.43-.59-.52 0-1.04.2-1.43.59L10.3 9.45l-7.72 7.72c-.78.78-.78 2.05 0 2.83L4 21.41c.39.39.9.59 1.41.59.51 0 1.02-.2 1.41-.59l7.78-7.78 2.81-2.81c.8-.78.8-2.07 0-2.86zM5.41 20L4 18.59l7.72-7.72 1.47 1.35L5.41 20z\"/>\n",
              "  </svg>\n",
              "      </button>\n",
              "      \n",
              "  <style>\n",
              "    .colab-df-container {\n",
              "      display:flex;\n",
              "      flex-wrap:wrap;\n",
              "      gap: 12px;\n",
              "    }\n",
              "\n",
              "    .colab-df-convert {\n",
              "      background-color: #E8F0FE;\n",
              "      border: none;\n",
              "      border-radius: 50%;\n",
              "      cursor: pointer;\n",
              "      display: none;\n",
              "      fill: #1967D2;\n",
              "      height: 32px;\n",
              "      padding: 0 0 0 0;\n",
              "      width: 32px;\n",
              "    }\n",
              "\n",
              "    .colab-df-convert:hover {\n",
              "      background-color: #E2EBFA;\n",
              "      box-shadow: 0px 1px 2px rgba(60, 64, 67, 0.3), 0px 1px 3px 1px rgba(60, 64, 67, 0.15);\n",
              "      fill: #174EA6;\n",
              "    }\n",
              "\n",
              "    [theme=dark] .colab-df-convert {\n",
              "      background-color: #3B4455;\n",
              "      fill: #D2E3FC;\n",
              "    }\n",
              "\n",
              "    [theme=dark] .colab-df-convert:hover {\n",
              "      background-color: #434B5C;\n",
              "      box-shadow: 0px 1px 3px 1px rgba(0, 0, 0, 0.15);\n",
              "      filter: drop-shadow(0px 1px 2px rgba(0, 0, 0, 0.3));\n",
              "      fill: #FFFFFF;\n",
              "    }\n",
              "  </style>\n",
              "\n",
              "      <script>\n",
              "        const buttonEl =\n",
              "          document.querySelector('#df-b0187d16-289b-4f6b-a429-ebcb239b2e6b button.colab-df-convert');\n",
              "        buttonEl.style.display =\n",
              "          google.colab.kernel.accessAllowed ? 'block' : 'none';\n",
              "\n",
              "        async function convertToInteractive(key) {\n",
              "          const element = document.querySelector('#df-b0187d16-289b-4f6b-a429-ebcb239b2e6b');\n",
              "          const dataTable =\n",
              "            await google.colab.kernel.invokeFunction('convertToInteractive',\n",
              "                                                     [key], {});\n",
              "          if (!dataTable) return;\n",
              "\n",
              "          const docLinkHtml = 'Like what you see? Visit the ' +\n",
              "            '<a target=\"_blank\" href=https://colab.research.google.com/notebooks/data_table.ipynb>data table notebook</a>'\n",
              "            + ' to learn more about interactive tables.';\n",
              "          element.innerHTML = '';\n",
              "          dataTable['output_type'] = 'display_data';\n",
              "          await google.colab.output.renderOutput(dataTable, element);\n",
              "          const docLink = document.createElement('div');\n",
              "          docLink.innerHTML = docLinkHtml;\n",
              "          element.appendChild(docLink);\n",
              "        }\n",
              "      </script>\n",
              "    </div>\n",
              "  </div>\n",
              "  "
            ]
          },
          "metadata": {},
          "execution_count": 13
        }
      ]
    },
    {
      "cell_type": "code",
      "source": [
        "# Plot the number of tweets for each candidate\n",
        "Data_Mixed.groupby('Candidate')['tweet'].count().plot.bar()\n",
        "plt.ylabel('Number of tweets')\n",
        "plt.title('Trump vs Biden')\n",
        "plt.show() "
      ],
      "metadata": {
        "colab": {
          "base_uri": "https://localhost:8080/",
          "height": 320
        },
        "id": "d60tg6WMJ80z",
        "outputId": "0594cc60-5104-4725-d314-9663ce5db43a"
      },
      "execution_count": 14,
      "outputs": [
        {
          "output_type": "display_data",
          "data": {
            "text/plain": [
              "<Figure size 432x288 with 1 Axes>"
            ],
            "image/png": "[encoded data removed]"
          },
          "metadata": {
            "needs_background": "light"
          }
        }
      ]
    },
    {
      "cell_type": "code",
      "source": [
        "# Comparison of likes\n",
        "Data_Mixed.groupby('Candidate')['likes'].sum().plot.bar()\n",
        "plt.ylabel('Number of Likes')\n",
        "plt.title('Trump vs Biden')\n",
        "plt.show() "
      ],
      "metadata": {
        "colab": {
          "base_uri": "https://localhost:8080/",
          "height": 320
        },
        "id": "AjdscPp4Jouf",
        "outputId": "7a446fbd-0f9c-4ead-e3bb-9e1f5df6edad"
      },
      "execution_count": 15,
      "outputs": [
        {
          "output_type": "display_data",
          "data": {
            "text/plain": [
              "<Figure size 432x288 with 1 Axes>"
            ],
            "image/png": "[encoded data removed]"
          },
          "metadata": {
            "needs_background": "light"
          }
        }
      ]
    },
    {
      "cell_type": "code",
      "source": [
        "Data_Mixed.country.value_counts() "
      ],
      "metadata": {
        "colab": {
          "base_uri": "https://localhost:8080/"
        },
        "id": "W0rJGDBdKGgd",
        "outputId": "1683095b-857c-4f0c-9539-f0b13489d3ed"
      },
      "execution_count": 16,
      "outputs": [
        {
          "output_type": "execute_result",
          "data": {
            "text/plain": [
              "United States of America    332495\n",
              "United States                61905\n",
              "United Kingdom               58051\n",
              "India                        40091\n",
              "Germany                      35379\n",
              "                             ...  \n",
              "Mali                             2\n",
              "Northern Mariana Islands         1\n",
              "Saint Lucia                      1\n",
              "Lesotho                          1\n",
              "East Timor                       1\n",
              "Name: country, Length: 189, dtype: int64"
            ]
          },
          "metadata": {},
          "execution_count": 16
        }
      ]
    },
    {
      "cell_type": "code",
      "source": [
        "Data_Mixed['country']=Data_Mixed['country'].replace({\"United States of America\" : \"US\", \"United States\" : \"US\"}) "
      ],
      "metadata": {
        "id": "h7XiTLd1KKKZ"
      },
      "execution_count": 17,
      "outputs": []
    },
    {
      "cell_type": "code",
      "source": [
        "# Countries with highest number of tweets\n",
        "plt.figure(figsize=(10,5))\n",
        "Data_Mixed.groupby('country')['tweet'].count().sort_values(ascending=False).head(10).plot.bar()\n",
        "plt.ylabel('Number of Twwets')\n",
        "plt.title('Top Countries with highest number of tweets')\n",
        "plt.show() "
      ],
      "metadata": {
        "colab": {
          "base_uri": "https://localhost:8080/",
          "height": 420
        },
        "id": "HROdaQuyKOCu",
        "outputId": "ac2dabd4-6433-4f05-ba27-444ba5632af2"
      },
      "execution_count": 18,
      "outputs": [
        {
          "output_type": "display_data",
          "data": {
            "text/plain": [
              "<Figure size 720x360 with 1 Axes>"
            ],
            "image/png": "[encoded data removed]"
          },
          "metadata": {
            "needs_background": "light"
          }
        }
      ]
    },
    {
      "cell_type": "code",
      "source": [
        "# List of top 10 countries with highest number of tweets\n",
        "top10Countries = Data_Mixed.groupby('country')['tweet'].count().sort_values(ascending=False).head(10).index.tolist()"
      ],
      "metadata": {
        "id": "3gZTeCnrKRF8"
      },
      "execution_count": null,
      "outputs": []
    },
    {
      "cell_type": "code",
      "source": [
        "# Twwets for Biden and Trump from each country\n",
        "tweet_df = Data_Mixed.groupby(['country','Candidate'])['tweet'].count().reset_index()\n",
        "tweet_df = tweet_df[tweet_df['country'].isin(top10Countries)]\n",
        "tweet_df"
      ],
      "metadata": {
        "id": "orExpa4oMVyl"
      },
      "execution_count": null,
      "outputs": []
    },
    {
      "cell_type": "code",
      "source": [
        "#Plot top 10 countries with highest number of tweets for trump and biden\n",
        "plt.figure(figsize=(20,8))\n",
        "sns.barplot(data=tweet_df,x='country',y='tweet',hue='Candidate')\n",
        "plt.show()"
      ],
      "metadata": {
        "id": "p1Uw4omMMY0H"
      },
      "execution_count": null,
      "outputs": []
    },
    {
      "cell_type": "code",
      "source": [
        "# List of top 10 states with highest number of tweets\n",
        "top10States = Data_Mixed.groupby('state')['tweet'].count().sort_values(ascending=False).head(10).index.tolist()"
      ],
      "metadata": {
        "id": "6Too9zPxMbnh"
      },
      "execution_count": null,
      "outputs": []
    },
    {
      "cell_type": "code",
      "source": [
        "# Twwets for Biden and Trump from each state in top10 states\n",
        "state_df = Data_Mixed.groupby(['state','Candidate'])['tweet'].count().reset_index()\n",
        "state_df = state_df[state_df['state'].isin(top10States)] \n",
        "state_df"
      ],
      "metadata": {
        "id": "DW4z4BUbMdUH"
      },
      "execution_count": null,
      "outputs": []
    },
    {
      "cell_type": "markdown",
      "source": [
        "## Cleaning the Text "
      ],
      "metadata": {
        "id": "lX-aTHGSMi2V"
      }
    },
    {
      "cell_type": "code",
      "source": [
        "def clean(text):\n",
        "    '''Make text lowercase, remove text in square brackets,remove links,remove punctuation\n",
        "    and remove words containing numbers.'''\n",
        "    text = str(text).lower()\n",
        "    text = re.sub('\\[.*?\\]', '', text)\n",
        "    text = re.sub('https?://\\S+|www\\.\\S+', '', text)\n",
        "    text = re.sub('<.*?>+', '', text)\n",
        "    text = re.sub('\\n', '', text)\n",
        "    text = re.sub('\\w*\\d\\w*', '', text)\n",
        "    text=re.sub(r'@[A-Za-z0-9]+','',text)\n",
        "    text=re.sub(r'#','',text)\n",
        "    text=re.sub(r'RT[\\s]+','',text)\n",
        "    text=re.sub(r'[^\\w]', ' ', text)\n",
        "    return text"
      ],
      "metadata": {
        "id": "mnp6WdeNMgFG"
      },
      "execution_count": null,
      "outputs": []
    },
    {
      "cell_type": "code",
      "source": [
        ""
      ],
      "metadata": {
        "id": "MHztv6wyab_p"
      },
      "execution_count": null,
      "outputs": []
    }
  ]
}